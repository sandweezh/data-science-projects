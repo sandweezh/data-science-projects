{
 "cells": [
  {
   "cell_type": "markdown",
   "metadata": {},
   "source": [
    "# Attempting Matrix Factorisation\n",
    "\n"
   ]
  },
  {
   "cell_type": "markdown",
   "metadata": {},
   "source": [
    "In this notebook, I attempt to implement Matrix Factorisation to identify any latent factors to use in the collaborative layer. "
   ]
  },
  {
   "cell_type": "code",
   "execution_count": 1,
   "metadata": {},
   "outputs": [],
   "source": [
    "import pandas as pd \n",
    "import numpy as np \n",
    "from sklearn.model_selection import train_test_split\n",
    "from sklearn.metrics import mean_squared_error, mean_absolute_error\n",
    "from surprise import SVD\n",
    "from surprise.model_selection import cross_validate\n",
    "from surprise import Dataset, Reader\n",
    "from surprise import NMF\n",
    "from surprise import SVDpp\n",
    "from surprise import SlopeOne\n",
    "from surprise import NMF\n",
    "from sklearn.model_selection import KFold"
   ]
  },
  {
   "cell_type": "code",
   "execution_count": 2,
   "metadata": {},
   "outputs": [],
   "source": [
    "num_users = 150 # number of dummy users \n",
    "num_items_a = 162 #total number of activities\n",
    "num_items_r = 326 # total number of restaurants "
   ]
  },
  {
   "cell_type": "markdown",
   "metadata": {},
   "source": [
    "## Creating dummy interaction matrix"
   ]
  },
  {
   "cell_type": "markdown",
   "metadata": {},
   "source": [
    "Generate interaction matrix for user-restaurant because there is no real data"
   ]
  },
  {
   "cell_type": "code",
   "execution_count": 3,
   "metadata": {},
   "outputs": [
    {
     "name": "stdout",
     "output_type": "stream",
     "text": [
      "Dummy User-Item Interaction Matrix: \n",
      "[[2 1 2 ... 3 1 0]\n",
      " [1 0 1 ... 2 4 2]\n",
      " [2 2 2 ... 2 4 3]\n",
      " ...\n",
      " [0 1 1 ... 2 3 0]\n",
      " [4 1 0 ... 3 0 4]\n",
      " [3 3 1 ... 0 2 1]]\n"
     ]
    }
   ],
   "source": [
    "interaction_matrix_restaurant = np.random.randint(0,5,size = (num_users, num_items_r)) #random rating from 0-5\n",
    "\n",
    "print('Dummy User-Item Interaction Matrix: ')\n",
    "print(interaction_matrix_restaurant)"
   ]
  },
  {
   "cell_type": "code",
   "execution_count": 4,
   "metadata": {},
   "outputs": [],
   "source": [
    "imdf_r = pd.DataFrame(interaction_matrix_restaurant)"
   ]
  },
  {
   "cell_type": "markdown",
   "metadata": {},
   "source": [
    "In the matrix below, there are a total of 326 items(columns), representing each restaurant in the dataset and 150 dummy users(rows). \n",
    "The values range from 0 to 5, indicating the strength of the interaction between users and items, with 5 being the strongest and 0 being the weakest."
   ]
  },
  {
   "cell_type": "code",
   "execution_count": 5,
   "metadata": {},
   "outputs": [
    {
     "data": {
      "text/html": [
       "<div>\n",
       "<style scoped>\n",
       "    .dataframe tbody tr th:only-of-type {\n",
       "        vertical-align: middle;\n",
       "    }\n",
       "\n",
       "    .dataframe tbody tr th {\n",
       "        vertical-align: top;\n",
       "    }\n",
       "\n",
       "    .dataframe thead th {\n",
       "        text-align: right;\n",
       "    }\n",
       "</style>\n",
       "<table border=\"1\" class=\"dataframe\">\n",
       "  <thead>\n",
       "    <tr style=\"text-align: right;\">\n",
       "      <th></th>\n",
       "      <th>0</th>\n",
       "      <th>1</th>\n",
       "      <th>2</th>\n",
       "      <th>3</th>\n",
       "      <th>4</th>\n",
       "      <th>5</th>\n",
       "      <th>6</th>\n",
       "      <th>7</th>\n",
       "      <th>8</th>\n",
       "      <th>9</th>\n",
       "      <th>...</th>\n",
       "      <th>316</th>\n",
       "      <th>317</th>\n",
       "      <th>318</th>\n",
       "      <th>319</th>\n",
       "      <th>320</th>\n",
       "      <th>321</th>\n",
       "      <th>322</th>\n",
       "      <th>323</th>\n",
       "      <th>324</th>\n",
       "      <th>325</th>\n",
       "    </tr>\n",
       "  </thead>\n",
       "  <tbody>\n",
       "    <tr>\n",
       "      <th>0</th>\n",
       "      <td>2</td>\n",
       "      <td>1</td>\n",
       "      <td>2</td>\n",
       "      <td>3</td>\n",
       "      <td>4</td>\n",
       "      <td>2</td>\n",
       "      <td>1</td>\n",
       "      <td>3</td>\n",
       "      <td>2</td>\n",
       "      <td>0</td>\n",
       "      <td>...</td>\n",
       "      <td>2</td>\n",
       "      <td>1</td>\n",
       "      <td>0</td>\n",
       "      <td>4</td>\n",
       "      <td>2</td>\n",
       "      <td>3</td>\n",
       "      <td>3</td>\n",
       "      <td>3</td>\n",
       "      <td>1</td>\n",
       "      <td>0</td>\n",
       "    </tr>\n",
       "    <tr>\n",
       "      <th>1</th>\n",
       "      <td>1</td>\n",
       "      <td>0</td>\n",
       "      <td>1</td>\n",
       "      <td>1</td>\n",
       "      <td>2</td>\n",
       "      <td>1</td>\n",
       "      <td>3</td>\n",
       "      <td>0</td>\n",
       "      <td>2</td>\n",
       "      <td>1</td>\n",
       "      <td>...</td>\n",
       "      <td>1</td>\n",
       "      <td>3</td>\n",
       "      <td>0</td>\n",
       "      <td>2</td>\n",
       "      <td>1</td>\n",
       "      <td>3</td>\n",
       "      <td>0</td>\n",
       "      <td>2</td>\n",
       "      <td>4</td>\n",
       "      <td>2</td>\n",
       "    </tr>\n",
       "    <tr>\n",
       "      <th>2</th>\n",
       "      <td>2</td>\n",
       "      <td>2</td>\n",
       "      <td>2</td>\n",
       "      <td>2</td>\n",
       "      <td>0</td>\n",
       "      <td>2</td>\n",
       "      <td>1</td>\n",
       "      <td>0</td>\n",
       "      <td>0</td>\n",
       "      <td>0</td>\n",
       "      <td>...</td>\n",
       "      <td>4</td>\n",
       "      <td>2</td>\n",
       "      <td>3</td>\n",
       "      <td>0</td>\n",
       "      <td>4</td>\n",
       "      <td>2</td>\n",
       "      <td>0</td>\n",
       "      <td>2</td>\n",
       "      <td>4</td>\n",
       "      <td>3</td>\n",
       "    </tr>\n",
       "    <tr>\n",
       "      <th>3</th>\n",
       "      <td>2</td>\n",
       "      <td>4</td>\n",
       "      <td>0</td>\n",
       "      <td>1</td>\n",
       "      <td>1</td>\n",
       "      <td>2</td>\n",
       "      <td>0</td>\n",
       "      <td>1</td>\n",
       "      <td>1</td>\n",
       "      <td>4</td>\n",
       "      <td>...</td>\n",
       "      <td>0</td>\n",
       "      <td>2</td>\n",
       "      <td>0</td>\n",
       "      <td>0</td>\n",
       "      <td>2</td>\n",
       "      <td>3</td>\n",
       "      <td>1</td>\n",
       "      <td>2</td>\n",
       "      <td>2</td>\n",
       "      <td>2</td>\n",
       "    </tr>\n",
       "    <tr>\n",
       "      <th>4</th>\n",
       "      <td>4</td>\n",
       "      <td>2</td>\n",
       "      <td>3</td>\n",
       "      <td>3</td>\n",
       "      <td>2</td>\n",
       "      <td>1</td>\n",
       "      <td>2</td>\n",
       "      <td>4</td>\n",
       "      <td>2</td>\n",
       "      <td>0</td>\n",
       "      <td>...</td>\n",
       "      <td>3</td>\n",
       "      <td>2</td>\n",
       "      <td>4</td>\n",
       "      <td>1</td>\n",
       "      <td>1</td>\n",
       "      <td>3</td>\n",
       "      <td>2</td>\n",
       "      <td>2</td>\n",
       "      <td>3</td>\n",
       "      <td>4</td>\n",
       "    </tr>\n",
       "  </tbody>\n",
       "</table>\n",
       "<p>5 rows × 326 columns</p>\n",
       "</div>"
      ],
      "text/plain": [
       "   0    1    2    3    4    5    6    7    8    9    ...  316  317  318  319  \\\n",
       "0    2    1    2    3    4    2    1    3    2    0  ...    2    1    0    4   \n",
       "1    1    0    1    1    2    1    3    0    2    1  ...    1    3    0    2   \n",
       "2    2    2    2    2    0    2    1    0    0    0  ...    4    2    3    0   \n",
       "3    2    4    0    1    1    2    0    1    1    4  ...    0    2    0    0   \n",
       "4    4    2    3    3    2    1    2    4    2    0  ...    3    2    4    1   \n",
       "\n",
       "   320  321  322  323  324  325  \n",
       "0    2    3    3    3    1    0  \n",
       "1    1    3    0    2    4    2  \n",
       "2    4    2    0    2    4    3  \n",
       "3    2    3    1    2    2    2  \n",
       "4    1    3    2    2    3    4  \n",
       "\n",
       "[5 rows x 326 columns]"
      ]
     },
     "execution_count": 5,
     "metadata": {},
     "output_type": "execute_result"
    }
   ],
   "source": [
    "imdf_r.head()"
   ]
  },
  {
   "cell_type": "markdown",
   "metadata": {},
   "source": [
    "With only 9605 zero elements out of 54300 elements in the matrix, it is a dense matrix instead of sparse, which is something to take into consideration when deciding on which matrix factorisation technique to use. "
   ]
  },
  {
   "cell_type": "code",
   "execution_count": 6,
   "metadata": {},
   "outputs": [
    {
     "data": {
      "text/plain": [
       "9967"
      ]
     },
     "execution_count": 6,
     "metadata": {},
     "output_type": "execute_result"
    }
   ],
   "source": [
    "np.count_nonzero(imdf_r == 0)"
   ]
  },
  {
   "cell_type": "code",
   "execution_count": 8,
   "metadata": {},
   "outputs": [],
   "source": [
    "imdf_r.to_csv('../datasets/imdf_r.csv')"
   ]
  },
  {
   "cell_type": "markdown",
   "metadata": {},
   "source": [
    "Generate interaction matrix for user-activity because there is no real data"
   ]
  },
  {
   "cell_type": "code",
   "execution_count": 9,
   "metadata": {},
   "outputs": [
    {
     "name": "stdout",
     "output_type": "stream",
     "text": [
      "Dummy User-Item Interaction Matrix: \n",
      "[[1 2 1 ... 1 0 0]\n",
      " [0 3 1 ... 4 0 3]\n",
      " [0 3 2 ... 1 1 3]\n",
      " ...\n",
      " [1 4 1 ... 0 3 3]\n",
      " [2 2 3 ... 2 1 2]\n",
      " [2 2 1 ... 3 1 0]]\n"
     ]
    }
   ],
   "source": [
    "interaction_matrix_activity = np.random.randint(0,5,size = (num_users, num_items_a)) #random rating from 0-5\n",
    "\n",
    "print('Dummy User-Item Interaction Matrix: ')\n",
    "print(interaction_matrix_activity)"
   ]
  },
  {
   "cell_type": "code",
   "execution_count": 10,
   "metadata": {},
   "outputs": [],
   "source": [
    "imdf_a = pd.DataFrame(interaction_matrix_activity)"
   ]
  },
  {
   "cell_type": "markdown",
   "metadata": {},
   "source": [
    "In the matrix below, there are a total of 162 items(columns), representing each restaurant and activity in the dataset and 150 dummy users(rows). \n",
    "The values range from 0 to 5, indicating the strength of the interaction between users and items, with 5 being the strongest and 0 being the weakest."
   ]
  },
  {
   "cell_type": "code",
   "execution_count": 11,
   "metadata": {},
   "outputs": [
    {
     "data": {
      "text/html": [
       "<div>\n",
       "<style scoped>\n",
       "    .dataframe tbody tr th:only-of-type {\n",
       "        vertical-align: middle;\n",
       "    }\n",
       "\n",
       "    .dataframe tbody tr th {\n",
       "        vertical-align: top;\n",
       "    }\n",
       "\n",
       "    .dataframe thead th {\n",
       "        text-align: right;\n",
       "    }\n",
       "</style>\n",
       "<table border=\"1\" class=\"dataframe\">\n",
       "  <thead>\n",
       "    <tr style=\"text-align: right;\">\n",
       "      <th></th>\n",
       "      <th>0</th>\n",
       "      <th>1</th>\n",
       "      <th>2</th>\n",
       "      <th>3</th>\n",
       "      <th>4</th>\n",
       "      <th>5</th>\n",
       "      <th>6</th>\n",
       "      <th>7</th>\n",
       "      <th>8</th>\n",
       "      <th>9</th>\n",
       "      <th>...</th>\n",
       "      <th>152</th>\n",
       "      <th>153</th>\n",
       "      <th>154</th>\n",
       "      <th>155</th>\n",
       "      <th>156</th>\n",
       "      <th>157</th>\n",
       "      <th>158</th>\n",
       "      <th>159</th>\n",
       "      <th>160</th>\n",
       "      <th>161</th>\n",
       "    </tr>\n",
       "  </thead>\n",
       "  <tbody>\n",
       "    <tr>\n",
       "      <th>0</th>\n",
       "      <td>1</td>\n",
       "      <td>2</td>\n",
       "      <td>1</td>\n",
       "      <td>1</td>\n",
       "      <td>0</td>\n",
       "      <td>4</td>\n",
       "      <td>4</td>\n",
       "      <td>0</td>\n",
       "      <td>4</td>\n",
       "      <td>1</td>\n",
       "      <td>...</td>\n",
       "      <td>0</td>\n",
       "      <td>3</td>\n",
       "      <td>3</td>\n",
       "      <td>3</td>\n",
       "      <td>4</td>\n",
       "      <td>2</td>\n",
       "      <td>3</td>\n",
       "      <td>1</td>\n",
       "      <td>0</td>\n",
       "      <td>0</td>\n",
       "    </tr>\n",
       "    <tr>\n",
       "      <th>1</th>\n",
       "      <td>0</td>\n",
       "      <td>3</td>\n",
       "      <td>1</td>\n",
       "      <td>1</td>\n",
       "      <td>4</td>\n",
       "      <td>0</td>\n",
       "      <td>1</td>\n",
       "      <td>2</td>\n",
       "      <td>2</td>\n",
       "      <td>2</td>\n",
       "      <td>...</td>\n",
       "      <td>3</td>\n",
       "      <td>4</td>\n",
       "      <td>3</td>\n",
       "      <td>0</td>\n",
       "      <td>4</td>\n",
       "      <td>1</td>\n",
       "      <td>1</td>\n",
       "      <td>4</td>\n",
       "      <td>0</td>\n",
       "      <td>3</td>\n",
       "    </tr>\n",
       "    <tr>\n",
       "      <th>2</th>\n",
       "      <td>0</td>\n",
       "      <td>3</td>\n",
       "      <td>2</td>\n",
       "      <td>2</td>\n",
       "      <td>1</td>\n",
       "      <td>1</td>\n",
       "      <td>2</td>\n",
       "      <td>1</td>\n",
       "      <td>3</td>\n",
       "      <td>3</td>\n",
       "      <td>...</td>\n",
       "      <td>2</td>\n",
       "      <td>4</td>\n",
       "      <td>3</td>\n",
       "      <td>0</td>\n",
       "      <td>2</td>\n",
       "      <td>4</td>\n",
       "      <td>2</td>\n",
       "      <td>1</td>\n",
       "      <td>1</td>\n",
       "      <td>3</td>\n",
       "    </tr>\n",
       "    <tr>\n",
       "      <th>3</th>\n",
       "      <td>0</td>\n",
       "      <td>0</td>\n",
       "      <td>4</td>\n",
       "      <td>4</td>\n",
       "      <td>0</td>\n",
       "      <td>1</td>\n",
       "      <td>4</td>\n",
       "      <td>1</td>\n",
       "      <td>3</td>\n",
       "      <td>4</td>\n",
       "      <td>...</td>\n",
       "      <td>2</td>\n",
       "      <td>0</td>\n",
       "      <td>0</td>\n",
       "      <td>3</td>\n",
       "      <td>2</td>\n",
       "      <td>1</td>\n",
       "      <td>3</td>\n",
       "      <td>0</td>\n",
       "      <td>0</td>\n",
       "      <td>0</td>\n",
       "    </tr>\n",
       "    <tr>\n",
       "      <th>4</th>\n",
       "      <td>4</td>\n",
       "      <td>2</td>\n",
       "      <td>4</td>\n",
       "      <td>1</td>\n",
       "      <td>3</td>\n",
       "      <td>3</td>\n",
       "      <td>3</td>\n",
       "      <td>2</td>\n",
       "      <td>1</td>\n",
       "      <td>0</td>\n",
       "      <td>...</td>\n",
       "      <td>2</td>\n",
       "      <td>3</td>\n",
       "      <td>3</td>\n",
       "      <td>3</td>\n",
       "      <td>3</td>\n",
       "      <td>3</td>\n",
       "      <td>2</td>\n",
       "      <td>2</td>\n",
       "      <td>4</td>\n",
       "      <td>1</td>\n",
       "    </tr>\n",
       "  </tbody>\n",
       "</table>\n",
       "<p>5 rows × 162 columns</p>\n",
       "</div>"
      ],
      "text/plain": [
       "   0    1    2    3    4    5    6    7    8    9    ...  152  153  154  155  \\\n",
       "0    1    2    1    1    0    4    4    0    4    1  ...    0    3    3    3   \n",
       "1    0    3    1    1    4    0    1    2    2    2  ...    3    4    3    0   \n",
       "2    0    3    2    2    1    1    2    1    3    3  ...    2    4    3    0   \n",
       "3    0    0    4    4    0    1    4    1    3    4  ...    2    0    0    3   \n",
       "4    4    2    4    1    3    3    3    2    1    0  ...    2    3    3    3   \n",
       "\n",
       "   156  157  158  159  160  161  \n",
       "0    4    2    3    1    0    0  \n",
       "1    4    1    1    4    0    3  \n",
       "2    2    4    2    1    1    3  \n",
       "3    2    1    3    0    0    0  \n",
       "4    3    3    2    2    4    1  \n",
       "\n",
       "[5 rows x 162 columns]"
      ]
     },
     "execution_count": 11,
     "metadata": {},
     "output_type": "execute_result"
    }
   ],
   "source": [
    "imdf_a.head()"
   ]
  },
  {
   "cell_type": "markdown",
   "metadata": {},
   "source": [
    "With only 5011 zero elements out of 24300 elements in the matrix, it is a dense matrix instead of sparse, which is something to take into consideration when deciding on which matrix factorisation technique to use. "
   ]
  },
  {
   "cell_type": "code",
   "execution_count": 12,
   "metadata": {},
   "outputs": [
    {
     "data": {
      "text/plain": [
       "4812"
      ]
     },
     "execution_count": 12,
     "metadata": {},
     "output_type": "execute_result"
    }
   ],
   "source": [
    "np.count_nonzero(imdf_a == 0)"
   ]
  },
  {
   "cell_type": "code",
   "execution_count": 13,
   "metadata": {},
   "outputs": [],
   "source": [
    "imdf_r.to_csv('../datasets/imdf_r.csv')\n",
    "imdf_a.to_csv('../datasets/imdf_a.csv')"
   ]
  },
  {
   "cell_type": "markdown",
   "metadata": {},
   "source": [
    "---\n",
    "## Split into training and test set"
   ]
  },
  {
   "cell_type": "code",
   "execution_count": 14,
   "metadata": {},
   "outputs": [],
   "source": [
    "interaction_matrix_restaurant = interaction_matrix_restaurant.astype(float)\n",
    "interaction_matrix_activity = interaction_matrix_activity.astype(float)"
   ]
  },
  {
   "cell_type": "code",
   "execution_count": 15,
   "metadata": {},
   "outputs": [
    {
     "name": "stdout",
     "output_type": "stream",
     "text": [
      "Train matrix shape: (120, 326)\n",
      "Test matrix shape: (30, 326)\n",
      "Train matrix shape: (120, 162)\n",
      "Test matrix shape: (30, 162)\n"
     ]
    }
   ],
   "source": [
    "train_restaurant, test_restaurant = train_test_split(interaction_matrix_restaurant, test_size=0.2, random_state=42)\n",
    "train_actviity, test_activity = train_test_split(interaction_matrix_activity, test_size=0.2, random_state=42)\n",
    "# Print the shapes of the resulting matrices\n",
    "print(\"Train matrix shape:\", train_restaurant.shape)\n",
    "print(\"Test matrix shape:\", test_restaurant.shape)\n",
    "print(\"Train matrix shape:\", train_actviity.shape)\n",
    "print(\"Test matrix shape:\", test_activity.shape)"
   ]
  },
  {
   "cell_type": "markdown",
   "metadata": {},
   "source": [
    "---\n",
    "## Alternating Least Squares (ALS)"
   ]
  },
  {
   "cell_type": "markdown",
   "metadata": {},
   "source": [
    "Aim: to factorise user-item interaction matrix into two lower-dimensional matrices: one representing users and one representing items. These matrices are then optimised iteratively to minimise the error between the reconstructed matrix and the original one "
   ]
  },
  {
   "cell_type": "markdown",
   "metadata": {},
   "source": [
    "Steps involved:\n",
    "1. Prepare your data: Organize user-item interaction data into a matrix format, where rows represent users, columns represent items, and the values represent user-item interactions\n",
    "\n",
    "2. Initialize user and item matrices: Start with random or predefined initial values for the user and item matrices.\n",
    "\n",
    "3. Alternating optimization: Alternately optimize the user and item matrices to minimize the error between the reconstructed matrix and the original one. This is usually done using techniques like gradient descent or alternating least squares.\n",
    "\n",
    "4. Convergence: Repeat the optimization process until the algorithm converges, meaning that the error between the reconstructed and original matrices is minimized or reaches a plateau.\n",
    "\n",
    "5. Generate recommendations: Once the user and item matrices are optimized, you can generate recommendations by reconstructing the original matrix and recommending items with high predicted ratings or interactions for a given user.\n",
    "\n",
    "6. Evaluation: Evaluate the performance of your recommendation system using appropriate evaluation metrics, such as precision, recall, or mean squared erro"
   ]
  },
  {
   "cell_type": "markdown",
   "metadata": {},
   "source": [
    "Initialising user and item matrices where each row represents a user and each column represents a latent feature. The values represnt how much each user/item exhibits each latent feature. "
   ]
  },
  {
   "cell_type": "code",
   "execution_count": 16,
   "metadata": {},
   "outputs": [],
   "source": [
    "def initialize_matrices(num_users, num_items, num_latent_factors):\n",
    "    # Initialize the user matrix with random values\n",
    "    user_matrix = np.random.rand(num_users, num_latent_factors)\n",
    "    \n",
    "    # Initialize the item matrix with random values\n",
    "    item_matrix = np.random.rand(num_items, num_latent_factors)\n",
    "    \n",
    "    return user_matrix, item_matrix\n",
    "\n",
    "\n"
   ]
  },
  {
   "cell_type": "code",
   "execution_count": 17,
   "metadata": {},
   "outputs": [],
   "source": [
    "# restaurants\n",
    "num_users = 120\n",
    "num_items = 326\n",
    "num_latent_factors = 10\n",
    "\n",
    "user_matrix_r, item_matrix_r = initialize_matrices(num_users, num_items, num_latent_factors)"
   ]
  },
  {
   "cell_type": "code",
   "execution_count": 18,
   "metadata": {},
   "outputs": [],
   "source": [
    "#activities\n",
    "# Example usage\n",
    "num_users = 120\n",
    "num_items = 162\n",
    "num_latent_factors = 10\n",
    "\n",
    "user_matrix_a, item_matrix_a = initialize_matrices(num_users, num_items, num_latent_factors)"
   ]
  },
  {
   "cell_type": "code",
   "execution_count": 19,
   "metadata": {},
   "outputs": [
    {
     "name": "stdout",
     "output_type": "stream",
     "text": [
      "[[0.23223857 0.04794252 0.84701604 ... 0.44410231 0.1780637  0.84541164]\n",
      " [0.38879236 0.39366708 0.47263839 ... 0.76839392 0.969153   0.16384953]\n",
      " [0.87412123 0.94690011 0.4872595  ... 0.70944278 0.97937195 0.11639709]\n",
      " ...\n",
      " [0.06322425 0.64555758 0.94346293 ... 0.07554124 0.39082618 0.80406111]\n",
      " [0.40388519 0.68745364 0.26557076 ... 0.79192197 0.24902472 0.73351865]\n",
      " [0.57730821 0.29264963 0.21143486 ... 0.98147428 0.09034614 0.54287743]] [[0.93902624 0.25008497 0.0778291  ... 0.62857695 0.90773712 0.30265775]\n",
      " [0.5991143  0.02997865 0.26000696 ... 0.37051572 0.14804131 0.21333704]\n",
      " [0.96084034 0.32498541 0.41610364 ... 0.01197696 0.22436816 0.580301  ]\n",
      " ...\n",
      " [0.39795181 0.8418086  0.99796522 ... 0.2770021  0.80253326 0.70295762]\n",
      " [0.76107205 0.12793826 0.44190426 ... 0.76294277 0.57848331 0.30315952]\n",
      " [0.21683109 0.43421446 0.98124882 ... 0.16233436 0.03176367 0.97857845]]\n"
     ]
    }
   ],
   "source": [
    "print(user_matrix_a,item_matrix_a)"
   ]
  },
  {
   "cell_type": "markdown",
   "metadata": {},
   "source": [
    "The function ALS returns the optimised user and item matrices P and Q\n",
    "\n",
    "\n"
   ]
  },
  {
   "cell_type": "code",
   "execution_count": 20,
   "metadata": {},
   "outputs": [],
   "source": [
    "def ALS(train_matrix, latent_features, iterations=10, lambda_reg=0.1):\n",
    "    \n",
    "    num_users, num_items = train_matrix.shape\n",
    "    user_matrix = np.random.rand(num_users, latent_features)\n",
    "    item_matrix = np.random.rand(num_items, latent_features)\n",
    "    \n",
    "    for i in range(iterations):\n",
    "        for u in range(num_users):\n",
    "            user_matrix[u] = np.linalg.solve(np.dot(item_matrix.T, item_matrix) + lambda_reg * np.eye(latent_features),\n",
    "                                              np.dot(item_matrix.T, train_matrix[u].T)).T\n",
    "        \n",
    "\n",
    "        for i in range(num_items):\n",
    "            item_matrix[i] = np.linalg.solve(np.dot(user_matrix.T, user_matrix) + lambda_reg * np.eye(latent_features),\n",
    "                                              np.dot(user_matrix.T, train_matrix[:, i]))\n",
    "    \n",
    "    return user_matrix, item_matrix\n",
    "\n",
    "\n",
    "\n"
   ]
  },
  {
   "cell_type": "markdown",
   "metadata": {},
   "source": [
    "Setting values for parameters:  \n",
    "\n",
    "train_matrix: the training user-item interaction matrix   \n",
    "latent_features = number of latent features  \n",
    "iterations = number of iterations(default = 10)  \n",
    "lambda_ = regularisation parameter(default = 0.1)"
   ]
  },
  {
   "cell_type": "code",
   "execution_count": 21,
   "metadata": {},
   "outputs": [],
   "source": [
    "train_matrix = train_restaurant\n",
    "latent_features = 5\n",
    "iterations = 100\n",
    "lambda_ = 0.1\n",
    "\n",
    "user_restaurant, item_restaurant = ALS(train_matrix, latent_features, iterations, lambda_)"
   ]
  },
  {
   "cell_type": "code",
   "execution_count": 22,
   "metadata": {},
   "outputs": [
    {
     "data": {
      "text/plain": [
       "array([[ 2.43390578e-01,  2.21655172e-01,  1.28622621e+00,\n",
       "         1.04736393e+00,  8.26745810e-01],\n",
       "       [ 2.07024661e-01,  7.49672486e-01,  7.94508366e-01,\n",
       "         7.58719898e-01,  1.19537111e+00],\n",
       "       [ 1.08087975e+00,  7.01937791e-01,  5.40926431e-01,\n",
       "         5.78212220e-01,  8.66031794e-01],\n",
       "       [ 8.60767583e-01,  5.13134828e-01,  3.03197547e-01,\n",
       "         1.06930394e+00,  1.33714881e+00],\n",
       "       [ 6.86630581e-01,  6.15803651e-01,  2.45420605e-01,\n",
       "         1.14426889e+00,  1.11417233e+00],\n",
       "       [ 6.09670674e-01,  1.02299984e+00,  6.34380352e-01,\n",
       "         9.57037061e-01,  5.70891422e-01],\n",
       "       [ 7.48655727e-01,  9.38678462e-01,  9.73618217e-01,\n",
       "         8.24514820e-01,  3.76067848e-01],\n",
       "       [ 1.06830800e+00, -2.31252677e-02,  1.15284207e+00,\n",
       "         8.28534953e-01,  9.60632983e-01],\n",
       "       [ 1.03502247e+00,  1.09024835e+00,  9.05485086e-01,\n",
       "         6.49497637e-02,  6.83574502e-01],\n",
       "       [ 3.59289696e-01,  6.90138804e-01,  7.42367917e-01,\n",
       "         1.12984359e+00,  9.09785467e-01],\n",
       "       [ 1.15190181e+00,  1.41539103e+00, -3.88856946e-01,\n",
       "         1.42661508e+00,  4.28984694e-01],\n",
       "       [ 9.22184550e-01,  5.92563133e-01,  4.73176403e-03,\n",
       "         1.38042476e+00,  7.89554326e-01],\n",
       "       [-6.46415544e-02,  9.23707697e-01,  1.29018358e+00,\n",
       "         9.66973605e-01,  3.96905401e-01],\n",
       "       [ 5.64669306e-01,  1.63017846e+00,  5.65424442e-01,\n",
       "         2.18988116e-01,  1.08936864e+00],\n",
       "       [ 9.27549725e-01,  6.88372033e-01,  4.83979052e-01,\n",
       "         8.19421186e-01,  8.04002634e-01],\n",
       "       [ 9.44290495e-01,  2.58267482e-01,  4.77148446e-01,\n",
       "         1.50786935e+00,  4.09992871e-01],\n",
       "       [ 2.26307058e-01,  4.94495773e-01,  1.00170213e+00,\n",
       "         7.22677320e-01,  1.16000735e+00],\n",
       "       [ 6.04138640e-01,  3.30197911e-01,  1.18179994e+00,\n",
       "         1.16805651e+00,  4.66910491e-01],\n",
       "       [ 2.86611780e-01,  3.02266103e-01,  1.42679624e+00,\n",
       "         7.03964988e-01,  9.35693265e-01],\n",
       "       [ 1.52399169e-01,  7.78809407e-01,  8.57055726e-01,\n",
       "         1.22051034e+00,  6.26574047e-01],\n",
       "       [ 1.13912316e+00,  1.02855096e+00,  1.05061361e+00,\n",
       "         7.39294346e-01, -3.33565694e-01],\n",
       "       [-2.52848787e-01,  1.04812647e+00,  1.35263215e+00,\n",
       "         2.73978040e-01,  1.12328105e+00],\n",
       "       [ 4.12580568e-01,  7.50144444e-01,  1.06397274e+00,\n",
       "         5.22608685e-01,  8.09197622e-01],\n",
       "       [ 4.31980923e-01,  7.27068489e-01,  5.22703058e-01,\n",
       "         7.15910730e-01,  1.62547752e+00],\n",
       "       [ 6.65193081e-01,  3.40862260e-01,  3.61359372e-01,\n",
       "         9.81091290e-01,  1.03967728e+00],\n",
       "       [ 6.54958238e-01,  1.03394835e+00,  1.23689261e+00,\n",
       "         1.00725362e+00,  6.13925635e-04],\n",
       "       [ 1.40738685e+00,  4.92014854e-01,  7.33612484e-01,\n",
       "         4.68365845e-01,  6.03172313e-01],\n",
       "       [ 7.17676701e-01,  1.32919163e+00,  1.00238121e+00,\n",
       "         3.04552317e-01,  8.44097032e-01],\n",
       "       [ 8.24704712e-01,  4.45117374e-01,  8.39722912e-01,\n",
       "         8.78850057e-01,  8.29940476e-01],\n",
       "       [ 1.05847907e+00,  1.05020898e+00,  1.03927914e+00,\n",
       "        -2.47598701e-01,  7.10580865e-01],\n",
       "       [ 8.59217573e-01,  7.62606604e-01,  2.88688733e-01,\n",
       "         1.33250337e+00,  6.46978475e-01],\n",
       "       [ 6.38204699e-01,  6.79382079e-01,  1.02187623e+00,\n",
       "         9.81179613e-01,  6.41582785e-01],\n",
       "       [ 1.89351107e-02,  1.74352469e+00,  7.23078145e-01,\n",
       "         9.51238844e-01,  3.20875329e-01],\n",
       "       [ 9.77190368e-01,  5.27117908e-01,  1.18538723e+00,\n",
       "         1.85929760e-01,  8.65813443e-01],\n",
       "       [ 9.19067876e-01,  4.92427008e-01,  1.20293125e+00,\n",
       "         6.89628090e-01,  5.72048064e-01],\n",
       "       [ 1.08396477e+00,  7.15516306e-01,  9.89217817e-01,\n",
       "         7.52633266e-01,  4.60072998e-01],\n",
       "       [ 3.94341996e-01,  1.36441097e-01,  5.50936358e-01,\n",
       "         1.36708869e+00,  1.26732788e+00],\n",
       "       [ 7.79598232e-01,  1.30917039e+00,  7.20229554e-01,\n",
       "         4.89118557e-01,  6.34500514e-01],\n",
       "       [ 7.73610937e-01,  1.41207303e+00,  1.85135251e-01,\n",
       "         9.87279819e-01,  7.20939154e-01],\n",
       "       [ 1.07167297e+00,  1.09621943e+00,  9.58802146e-01,\n",
       "         9.40139853e-01,  6.62064821e-02],\n",
       "       [ 1.30429091e+00,  7.80674675e-01,  5.30368409e-01,\n",
       "        -7.92131051e-02,  1.15074369e+00],\n",
       "       [ 8.51389819e-01,  2.64752221e-01,  6.18583751e-01,\n",
       "         8.49126716e-01,  1.16858562e+00],\n",
       "       [ 4.46270232e-01,  4.03875000e-01,  1.59605321e+00,\n",
       "         1.03956499e+00,  3.83118965e-01],\n",
       "       [ 8.40475268e-01,  4.66879816e-01,  9.02933829e-01,\n",
       "         8.68929815e-01,  5.19897734e-01],\n",
       "       [ 6.50075735e-01,  3.86082498e-01,  1.55406813e+00,\n",
       "         7.49481085e-01,  4.85614199e-01],\n",
       "       [-1.62894139e-01,  1.03746998e+00,  7.48847595e-01,\n",
       "         6.82333097e-01,  1.23251763e+00],\n",
       "       [ 4.29743321e-01,  1.20906512e+00,  5.57792799e-01,\n",
       "         5.50375826e-01,  1.12544307e+00],\n",
       "       [ 1.12194342e-01,  1.41181140e+00,  1.10011015e+00,\n",
       "         2.94459114e-01,  8.24512315e-01],\n",
       "       [ 1.05891070e+00,  7.81155445e-01,  7.14663224e-01,\n",
       "         5.58908403e-01,  6.18825768e-01],\n",
       "       [ 1.06547005e+00,  1.27023858e-01,  1.73863974e+00,\n",
       "         4.27365212e-01,  3.31428245e-01],\n",
       "       [ 8.79749487e-01,  7.24409579e-01,  1.35952386e+00,\n",
       "         1.17819074e+00, -3.01248661e-01],\n",
       "       [ 4.08990997e-01,  1.20581024e+00,  6.75579829e-01,\n",
       "        -1.01765924e-02,  1.47493499e+00],\n",
       "       [ 7.45186585e-01,  5.40716259e-01,  1.65783003e+00,\n",
       "         4.45320265e-01,  4.31874748e-01],\n",
       "       [ 8.67018537e-02,  9.47205975e-02,  1.42093828e+00,\n",
       "         9.47679350e-01,  1.19667648e+00],\n",
       "       [ 6.29535830e-01, -2.88149796e-01,  9.66033517e-01,\n",
       "         9.07680439e-01,  1.41234606e+00],\n",
       "       [ 4.20202226e-01,  2.35897516e-01,  5.03406438e-01,\n",
       "         1.34033833e+00,  1.07576915e+00],\n",
       "       [-3.03900489e-01,  8.61451475e-01,  1.43839679e+00,\n",
       "         1.30264044e+00,  4.07026019e-01],\n",
       "       [ 7.39116457e-01,  1.96650503e-01,  9.87915571e-01,\n",
       "         3.46438831e-01,  1.66870386e+00],\n",
       "       [ 5.45204176e-01,  1.14618582e+00,  1.29671799e+00,\n",
       "         4.30448326e-01,  4.54440773e-01],\n",
       "       [ 1.56738956e+00,  1.37848854e-01,  7.38891429e-01,\n",
       "         4.53858397e-01,  1.07544048e+00],\n",
       "       [-2.66689307e-01,  7.99171830e-01,  1.57194097e-01,\n",
       "         1.46296434e+00,  1.37520038e+00],\n",
       "       [ 2.57337861e-01,  9.70134836e-01,  1.16252776e+00,\n",
       "         5.57945812e-01,  9.73630107e-01],\n",
       "       [ 9.33051909e-01,  5.08600721e-01,  1.09390613e+00,\n",
       "         5.85427815e-01,  6.12822596e-01],\n",
       "       [ 7.99977477e-01,  4.40360934e-01,  1.20386093e+00,\n",
       "         1.43483594e+00,  6.25557793e-03],\n",
       "       [ 1.09536552e+00,  2.43993816e-01,  6.16822613e-01,\n",
       "         1.92300521e+00,  8.46406555e-02],\n",
       "       [ 6.82023454e-01,  1.04318017e+00,  8.24691792e-01,\n",
       "         6.68972413e-01,  4.84213631e-01],\n",
       "       [ 9.11766905e-01,  1.20142155e+00,  1.21671484e+00,\n",
       "         6.55273130e-01, -1.10681431e-01],\n",
       "       [ 1.08479405e+00,  5.33667225e-01,  6.19847398e-01,\n",
       "         1.11531250e+00,  3.39480341e-01],\n",
       "       [ 8.07827205e-01,  4.22084503e-01,  4.76105625e-01,\n",
       "         5.46916069e-02,  2.00347841e+00],\n",
       "       [ 1.01402296e-02,  1.31167362e+00,  7.31847772e-01,\n",
       "         4.34891376e-02,  1.62673893e+00],\n",
       "       [ 1.05227007e+00,  9.58692797e-01,  4.13719122e-01,\n",
       "         9.22210277e-01,  4.40219718e-01],\n",
       "       [ 7.86560859e-01,  7.42211462e-01,  1.35698558e+00,\n",
       "         2.24716857e-01,  5.74696764e-01],\n",
       "       [ 4.51364579e-02,  8.82218614e-01,  8.01655173e-01,\n",
       "         1.22885483e+00,  7.78387812e-01],\n",
       "       [ 1.19465938e+00,  1.56637717e-01,  9.14623371e-01,\n",
       "         1.52177468e-01,  1.35883323e+00],\n",
       "       [-1.78009002e-01,  1.53060789e+00,  8.44179656e-01,\n",
       "         1.27889765e+00,  3.67631856e-01],\n",
       "       [ 1.22203258e+00,  4.80689600e-01,  5.45026555e-01,\n",
       "         9.47842824e-01,  8.46600138e-01],\n",
       "       [ 8.82307344e-01,  4.18138755e-01,  1.59095349e+00,\n",
       "         4.70370112e-01,  4.68496266e-01],\n",
       "       [ 3.20723422e-01,  6.19122105e-01,  1.86470461e+00,\n",
       "         1.98185091e-01,  9.32138141e-01],\n",
       "       [ 1.20526459e+00,  7.03259780e-01,  7.29905088e-01,\n",
       "         5.36626292e-01,  7.92622162e-01],\n",
       "       [ 5.56531984e-02,  1.41275802e+00,  5.22378781e-01,\n",
       "         6.26891158e-01,  1.04060554e+00],\n",
       "       [ 3.76292926e-01,  1.06222702e+00,  2.39825700e-01,\n",
       "         1.23290644e+00,  9.72062562e-01],\n",
       "       [ 3.80088573e-01,  6.65361566e-01,  1.33201605e+00,\n",
       "         8.56195007e-01,  7.40003988e-01],\n",
       "       [ 1.28800383e+00,  8.03794667e-01,  8.44880778e-01,\n",
       "         2.19268017e-01,  9.08001403e-01],\n",
       "       [ 7.96243765e-01,  9.96455317e-01,  1.31484114e+00,\n",
       "         3.07427429e-01,  5.87239373e-01],\n",
       "       [ 9.65474885e-01,  5.65084021e-01,  1.48099835e+00,\n",
       "         4.69821396e-01,  3.72834143e-01],\n",
       "       [ 5.56568527e-01,  1.13387949e-02,  9.59060683e-01,\n",
       "         7.08048950e-01,  1.67287427e+00],\n",
       "       [ 5.97702006e-01,  8.19189292e-01,  8.05091440e-02,\n",
       "         1.84838214e+00,  4.45729316e-01],\n",
       "       [ 2.45778151e-01,  2.48039593e-01,  1.17300621e+00,\n",
       "         1.01739800e+00,  1.10277062e+00],\n",
       "       [ 6.19024429e-01,  1.63305669e-01,  1.56027494e+00,\n",
       "         6.62835627e-01,  8.30440100e-01],\n",
       "       [ 7.24841857e-01,  1.86584001e-01,  7.85074164e-01,\n",
       "         1.15456564e+00,  1.12600870e+00],\n",
       "       [ 5.04907997e-01,  1.91544659e-01,  1.22210241e+00,\n",
       "         1.15464823e+00,  5.30362660e-01],\n",
       "       [ 3.57201698e-01,  1.44101411e+00,  6.14633139e-01,\n",
       "         3.19103264e-02,  1.25496143e+00],\n",
       "       [ 4.31952504e-01,  1.13550296e+00,  1.07070120e+00,\n",
       "         5.06593910e-01,  7.30329479e-01],\n",
       "       [ 1.20973602e+00,  5.01613704e-01,  6.32888654e-01,\n",
       "         7.32465782e-01,  7.22982950e-01],\n",
       "       [ 2.45982679e-01,  7.23052988e-01,  1.15605471e+00,\n",
       "         1.11414161e+00,  4.66611270e-01],\n",
       "       [ 1.00918294e+00,  8.44785799e-02,  9.29853212e-01,\n",
       "         1.11192491e+00,  5.95663986e-01],\n",
       "       [ 7.33019327e-01,  6.65664156e-01,  1.22772801e+00,\n",
       "         1.24060230e-01,  1.01328657e+00],\n",
       "       [ 2.63903931e-01,  4.32095052e-01,  7.55813392e-01,\n",
       "         1.09831125e+00,  1.33919788e+00],\n",
       "       [ 6.90908284e-01,  1.48794446e+00,  5.26604998e-01,\n",
       "         6.50509964e-01,  5.55004573e-01],\n",
       "       [ 8.82397821e-01,  3.36115831e-01,  6.40513245e-01,\n",
       "         6.88047430e-01,  1.35138650e+00],\n",
       "       [ 1.52392359e+00,  7.46695602e-01,  9.15069368e-01,\n",
       "         1.45555300e-01,  5.97387736e-01],\n",
       "       [ 6.62138253e-01,  1.12711368e+00,  6.55246055e-01,\n",
       "         1.00545673e+00,  4.01129441e-02],\n",
       "       [ 1.71830778e+00,  1.90177297e-01,  4.65498734e-01,\n",
       "         9.25715839e-01,  4.57284355e-01],\n",
       "       [ 1.45799811e+00,  9.23093919e-01,  1.55072867e+00,\n",
       "        -3.71696131e-01,  5.84656953e-01],\n",
       "       [ 6.74029997e-01,  1.65279134e-01,  1.11030666e+00,\n",
       "         1.19233332e+00,  5.41066675e-01],\n",
       "       [ 1.26800862e+00,  7.27513525e-01,  4.76203792e-02,\n",
       "         1.06693340e+00,  9.40054886e-01],\n",
       "       [ 7.12926961e-02,  4.39189282e-01,  9.36288101e-01,\n",
       "         1.16542546e+00,  9.88395472e-01],\n",
       "       [ 9.38253857e-01,  9.87105338e-01,  3.09272294e-01,\n",
       "         4.56619961e-01,  1.21586856e+00],\n",
       "       [ 3.86968675e-01,  1.61983076e-01,  1.21605702e+00,\n",
       "         7.32467149e-01,  1.35917049e+00],\n",
       "       [ 9.12910673e-02,  5.91778958e-01,  1.19120595e+00,\n",
       "         1.14770627e+00,  7.18168250e-01],\n",
       "       [ 8.22750250e-01,  7.78361483e-01,  1.01813759e-01,\n",
       "         1.26345135e+00,  8.13821818e-01],\n",
       "       [ 1.23025286e+00,  1.22406741e+00,  5.32994123e-01,\n",
       "         4.31874248e-01,  1.76969517e-01],\n",
       "       [ 1.01644367e+00,  5.93824622e-01,  3.40065856e-01,\n",
       "         9.20226903e-01,  6.88716780e-01],\n",
       "       [ 5.66731485e-01,  1.12996961e+00,  1.22369966e+00,\n",
       "         9.59529029e-01, -2.62459154e-02],\n",
       "       [ 7.79309475e-01,  9.95967609e-01,  3.54258374e-01,\n",
       "         7.75377370e-01,  1.08436364e+00],\n",
       "       [ 3.87913030e-01,  8.22839024e-01,  6.55324954e-01,\n",
       "         8.67056384e-01,  8.23708239e-01],\n",
       "       [ 2.64091193e-01,  1.78222032e+00,  9.89351492e-01,\n",
       "         6.88966838e-01,  2.59645199e-01],\n",
       "       [ 1.15111255e+00,  7.97255764e-01,  1.06412412e-01,\n",
       "         8.36295725e-01,  9.28016284e-01],\n",
       "       [ 6.85888046e-01,  8.73180144e-01,  8.97267016e-01,\n",
       "         7.39996651e-01,  6.25344082e-01],\n",
       "       [ 9.89563198e-01,  9.41402995e-02,  1.47193536e+00,\n",
       "         3.58187242e-01,  9.04870572e-01]])"
      ]
     },
     "execution_count": 22,
     "metadata": {},
     "output_type": "execute_result"
    }
   ],
   "source": [
    "user_restaurant"
   ]
  },
  {
   "cell_type": "code",
   "execution_count": 23,
   "metadata": {},
   "outputs": [],
   "source": [
    "train_matrix = train_actviity\n",
    "latent_features = 5 \n",
    "lambda_ = 0.1\n",
    "\n",
    "user_activity, item_activity = ALS(train_matrix, latent_features, iterations, lambda_)"
   ]
  },
  {
   "cell_type": "code",
   "execution_count": 24,
   "metadata": {},
   "outputs": [
    {
     "data": {
      "text/plain": [
       "(162, 5)"
      ]
     },
     "execution_count": 24,
     "metadata": {},
     "output_type": "execute_result"
    }
   ],
   "source": [
    "item_activity.shape"
   ]
  },
  {
   "cell_type": "markdown",
   "metadata": {},
   "source": [
    "Step 1: Compute predicted ratings matrix by taking the dot product of user and item (transposed) matrices"
   ]
  },
  {
   "cell_type": "code",
   "execution_count": 25,
   "metadata": {},
   "outputs": [],
   "source": [
    "predicted_ratings_restaurant = np.dot(user_restaurant, item_restaurant.T)\n",
    "predicted_ratings_activity = np.dot(user_activity, item_activity.T)"
   ]
  },
  {
   "cell_type": "code",
   "execution_count": 26,
   "metadata": {},
   "outputs": [
    {
     "data": {
      "text/plain": [
       "(120, 326)"
      ]
     },
     "execution_count": 26,
     "metadata": {},
     "output_type": "execute_result"
    }
   ],
   "source": [
    "predicted_ratings_restaurant.shape\n"
   ]
  },
  {
   "cell_type": "markdown",
   "metadata": {},
   "source": [
    "Step 2: Generate predictions (on test set)"
   ]
  },
  {
   "cell_type": "code",
   "execution_count": 27,
   "metadata": {},
   "outputs": [],
   "source": [
    "def predict_ratings(user_matrix, item_matrix, test_set):\n",
    "    num_users, num_items = test_set.shape\n",
    "\n",
    "    predicted_ratings = np.zeros((num_users, num_items))\n",
    "    for user_id in range(num_users):\n",
    "        for item_id in range(num_items):\n",
    "\n",
    "            user_features = user_matrix[user_id]\n",
    "            item_features = item_matrix[item_id]\n",
    "            \n",
    "            predicted_ratings[user_id, item_id] = np.dot(user_features, item_features)\n",
    "    \n",
    "    return predicted_ratings\n",
    "\n"
   ]
  },
  {
   "cell_type": "code",
   "execution_count": 28,
   "metadata": {},
   "outputs": [],
   "source": [
    "pred_activity = predict_ratings(user_activity, item_activity, test_activity)\n",
    "pred_restaurant = predict_ratings(user_restaurant, item_restaurant, test_restaurant)"
   ]
  },
  {
   "cell_type": "code",
   "execution_count": 29,
   "metadata": {},
   "outputs": [
    {
     "data": {
      "text/plain": [
       "(30, 162)"
      ]
     },
     "execution_count": 29,
     "metadata": {},
     "output_type": "execute_result"
    }
   ],
   "source": [
    "pred_activity.shape"
   ]
  },
  {
   "cell_type": "code",
   "execution_count": 30,
   "metadata": {},
   "outputs": [
    {
     "data": {
      "text/plain": [
       "(30, 162)"
      ]
     },
     "execution_count": 30,
     "metadata": {},
     "output_type": "execute_result"
    }
   ],
   "source": [
    "test_activity.shape"
   ]
  },
  {
   "cell_type": "markdown",
   "metadata": {},
   "source": [
    "Step 3. Calculate msea, maea, rmse"
   ]
  },
  {
   "cell_type": "code",
   "execution_count": 31,
   "metadata": {},
   "outputs": [
    {
     "name": "stdout",
     "output_type": "stream",
     "text": [
      "2.235298758522095 2.1845225002200976\n",
      "1.4950915552306805 1.478013024374311\n",
      "1.2746197340419154 1.2719422524181443\n"
     ]
    }
   ],
   "source": [
    "msea = mean_squared_error(test_activity, pred_activity)\n",
    "mser = mean_squared_error(test_restaurant, pred_restaurant)\n",
    "\n",
    "rmsea = np.sqrt(msea)\n",
    "rmser = np.sqrt(mser)\n",
    "\n",
    "maea = mean_absolute_error(test_activity, pred_activity)\n",
    "maer = mean_absolute_error(test_restaurant, pred_restaurant)\n",
    "\n",
    "print(msea,     mser)\n",
    "print(rmsea,   rmser)\n",
    "print(maea,    maer)"
   ]
  },
  {
   "cell_type": "markdown",
   "metadata": {},
   "source": [
    "The scores above are basically the error score of the predictions and the lowest score in this case is 1.49. Considering that our values only range between 0-4, an error of more than 1 is considered too large and unacceptable. Hence, proceed to try cross validation to see if results improve."
   ]
  },
  {
   "cell_type": "markdown",
   "metadata": {},
   "source": [
    "## Cross validation"
   ]
  },
  {
   "cell_type": "code",
   "execution_count": 32,
   "metadata": {},
   "outputs": [
    {
     "name": "stdout",
     "output_type": "stream",
     "text": [
      "Fold 1/5\n",
      "MSE: 2.1237376316980154\n",
      "RMSE: 1.457304920631923\n",
      "Fold 2/5\n",
      "MSE: 2.2354796323730004\n",
      "RMSE: 1.4951520432293834\n",
      "Fold 3/5\n",
      "MSE: 2.153696076994575\n",
      "RMSE: 1.4675476404514354\n",
      "Fold 4/5\n",
      "MSE: 2.1641902972253018\n",
      "RMSE: 1.4711187230218035\n",
      "Fold 5/5\n",
      "MSE: 2.1443150354226743\n",
      "RMSE: 1.4643479898653442\n",
      "Average MSE across all folds: 2.164283734742713\n",
      "Average RMSE across all folds: 1.471094263439978\n"
     ]
    }
   ],
   "source": [
    "k_folds = 5\n",
    "kf = KFold(n_splits=k_folds, shuffle=True, random_state=42)\n",
    "mse_scores = []\n",
    "rmse_scores = []\n",
    "\n",
    "interaction_matrix = interaction_matrix_activity\n",
    "for fold, (train_index, test_index) in enumerate(kf.split(interaction_matrix)):\n",
    "    print(f\"Fold {fold + 1}/{k_folds}\")\n",
    "    X_train, X_test = interaction_matrix[train_index], interaction_matrix[test_index]\n",
    "    train_matrix = X_train\n",
    "    latent_features = 4 \n",
    "    iterations = 100\n",
    "    lambda_ = 0.1\n",
    "    user_m, item_m = ALS(train_matrix, latent_features, iterations, lambda_)\n",
    " \n",
    "    \n",
    "    predicted = predict_ratings(user_m, item_m, X_test)\n",
    "\n",
    "    mse = mean_squared_error(X_test, predicted)\n",
    "    mse_scores.append(mse)\n",
    "    rmse= np.sqrt(mse)\n",
    "    rmse_scores.append(rmse)\n",
    "\n",
    "    print(f\"MSE: {mse}\")\n",
    "    print(f\"RMSE: {rmse}\")\n",
    "\n",
    "average_mse = np.mean(mse_scores)\n",
    "print(f\"Average MSE across all folds: {average_mse}\")\n",
    "average_rmse = np.mean(rmse_scores)\n",
    "print(f\"Average RMSE across all folds: {average_rmse}\")\n"
   ]
  },
  {
   "cell_type": "markdown",
   "metadata": {},
   "source": [
    "From a preliminary check on the acitivity data, the scores did not imrpove significantly even with cross validation. "
   ]
  },
  {
   "cell_type": "markdown",
   "metadata": {},
   "source": [
    "--- "
   ]
  },
  {
   "cell_type": "markdown",
   "metadata": {},
   "source": [
    "## Using Suprise Package, other matrix factorisation algorithms will be tested to see if they perform better than ALS"
   ]
  },
  {
   "cell_type": "markdown",
   "metadata": {},
   "source": [
    "### SVD - Singular Vector Decomposition"
   ]
  },
  {
   "cell_type": "markdown",
   "metadata": {},
   "source": [
    "Preparing dataset into format compatible with Surpise"
   ]
  },
  {
   "cell_type": "code",
   "execution_count": 43,
   "metadata": {},
   "outputs": [],
   "source": [
    "imdf_r = pd.read_csv('../datasets/imdf_r.csv', index_col = False)"
   ]
  },
  {
   "cell_type": "code",
   "execution_count": 45,
   "metadata": {},
   "outputs": [],
   "source": [
    "imdf_r.drop(columns = ['Unnamed: 0'], inplace = True)"
   ]
  },
  {
   "cell_type": "code",
   "execution_count": 46,
   "metadata": {},
   "outputs": [
    {
     "data": {
      "text/html": [
       "<div>\n",
       "<style scoped>\n",
       "    .dataframe tbody tr th:only-of-type {\n",
       "        vertical-align: middle;\n",
       "    }\n",
       "\n",
       "    .dataframe tbody tr th {\n",
       "        vertical-align: top;\n",
       "    }\n",
       "\n",
       "    .dataframe thead th {\n",
       "        text-align: right;\n",
       "    }\n",
       "</style>\n",
       "<table border=\"1\" class=\"dataframe\">\n",
       "  <thead>\n",
       "    <tr style=\"text-align: right;\">\n",
       "      <th></th>\n",
       "      <th>0</th>\n",
       "      <th>1</th>\n",
       "      <th>2</th>\n",
       "      <th>3</th>\n",
       "      <th>4</th>\n",
       "      <th>5</th>\n",
       "      <th>6</th>\n",
       "      <th>7</th>\n",
       "      <th>8</th>\n",
       "      <th>9</th>\n",
       "      <th>...</th>\n",
       "      <th>316</th>\n",
       "      <th>317</th>\n",
       "      <th>318</th>\n",
       "      <th>319</th>\n",
       "      <th>320</th>\n",
       "      <th>321</th>\n",
       "      <th>322</th>\n",
       "      <th>323</th>\n",
       "      <th>324</th>\n",
       "      <th>325</th>\n",
       "    </tr>\n",
       "  </thead>\n",
       "  <tbody>\n",
       "    <tr>\n",
       "      <th>0</th>\n",
       "      <td>2</td>\n",
       "      <td>1</td>\n",
       "      <td>2</td>\n",
       "      <td>3</td>\n",
       "      <td>4</td>\n",
       "      <td>2</td>\n",
       "      <td>1</td>\n",
       "      <td>3</td>\n",
       "      <td>2</td>\n",
       "      <td>0</td>\n",
       "      <td>...</td>\n",
       "      <td>2</td>\n",
       "      <td>1</td>\n",
       "      <td>0</td>\n",
       "      <td>4</td>\n",
       "      <td>2</td>\n",
       "      <td>3</td>\n",
       "      <td>3</td>\n",
       "      <td>3</td>\n",
       "      <td>1</td>\n",
       "      <td>0</td>\n",
       "    </tr>\n",
       "    <tr>\n",
       "      <th>1</th>\n",
       "      <td>1</td>\n",
       "      <td>0</td>\n",
       "      <td>1</td>\n",
       "      <td>1</td>\n",
       "      <td>2</td>\n",
       "      <td>1</td>\n",
       "      <td>3</td>\n",
       "      <td>0</td>\n",
       "      <td>2</td>\n",
       "      <td>1</td>\n",
       "      <td>...</td>\n",
       "      <td>1</td>\n",
       "      <td>3</td>\n",
       "      <td>0</td>\n",
       "      <td>2</td>\n",
       "      <td>1</td>\n",
       "      <td>3</td>\n",
       "      <td>0</td>\n",
       "      <td>2</td>\n",
       "      <td>4</td>\n",
       "      <td>2</td>\n",
       "    </tr>\n",
       "    <tr>\n",
       "      <th>2</th>\n",
       "      <td>2</td>\n",
       "      <td>2</td>\n",
       "      <td>2</td>\n",
       "      <td>2</td>\n",
       "      <td>0</td>\n",
       "      <td>2</td>\n",
       "      <td>1</td>\n",
       "      <td>0</td>\n",
       "      <td>0</td>\n",
       "      <td>0</td>\n",
       "      <td>...</td>\n",
       "      <td>4</td>\n",
       "      <td>2</td>\n",
       "      <td>3</td>\n",
       "      <td>0</td>\n",
       "      <td>4</td>\n",
       "      <td>2</td>\n",
       "      <td>0</td>\n",
       "      <td>2</td>\n",
       "      <td>4</td>\n",
       "      <td>3</td>\n",
       "    </tr>\n",
       "    <tr>\n",
       "      <th>3</th>\n",
       "      <td>2</td>\n",
       "      <td>4</td>\n",
       "      <td>0</td>\n",
       "      <td>1</td>\n",
       "      <td>1</td>\n",
       "      <td>2</td>\n",
       "      <td>0</td>\n",
       "      <td>1</td>\n",
       "      <td>1</td>\n",
       "      <td>4</td>\n",
       "      <td>...</td>\n",
       "      <td>0</td>\n",
       "      <td>2</td>\n",
       "      <td>0</td>\n",
       "      <td>0</td>\n",
       "      <td>2</td>\n",
       "      <td>3</td>\n",
       "      <td>1</td>\n",
       "      <td>2</td>\n",
       "      <td>2</td>\n",
       "      <td>2</td>\n",
       "    </tr>\n",
       "    <tr>\n",
       "      <th>4</th>\n",
       "      <td>4</td>\n",
       "      <td>2</td>\n",
       "      <td>3</td>\n",
       "      <td>3</td>\n",
       "      <td>2</td>\n",
       "      <td>1</td>\n",
       "      <td>2</td>\n",
       "      <td>4</td>\n",
       "      <td>2</td>\n",
       "      <td>0</td>\n",
       "      <td>...</td>\n",
       "      <td>3</td>\n",
       "      <td>2</td>\n",
       "      <td>4</td>\n",
       "      <td>1</td>\n",
       "      <td>1</td>\n",
       "      <td>3</td>\n",
       "      <td>2</td>\n",
       "      <td>2</td>\n",
       "      <td>3</td>\n",
       "      <td>4</td>\n",
       "    </tr>\n",
       "  </tbody>\n",
       "</table>\n",
       "<p>5 rows × 326 columns</p>\n",
       "</div>"
      ],
      "text/plain": [
       "   0  1  2  3  4  5  6  7  8  9  ...  316  317  318  319  320  321  322  323  \\\n",
       "0  2  1  2  3  4  2  1  3  2  0  ...    2    1    0    4    2    3    3    3   \n",
       "1  1  0  1  1  2  1  3  0  2  1  ...    1    3    0    2    1    3    0    2   \n",
       "2  2  2  2  2  0  2  1  0  0  0  ...    4    2    3    0    4    2    0    2   \n",
       "3  2  4  0  1  1  2  0  1  1  4  ...    0    2    0    0    2    3    1    2   \n",
       "4  4  2  3  3  2  1  2  4  2  0  ...    3    2    4    1    1    3    2    2   \n",
       "\n",
       "   324  325  \n",
       "0    1    0  \n",
       "1    4    2  \n",
       "2    4    3  \n",
       "3    2    2  \n",
       "4    3    4  \n",
       "\n",
       "[5 rows x 326 columns]"
      ]
     },
     "execution_count": 46,
     "metadata": {},
     "output_type": "execute_result"
    }
   ],
   "source": [
    "imdf_r.head()"
   ]
  },
  {
   "cell_type": "markdown",
   "metadata": {},
   "source": [
    "Reader is required for Surprise Algorithm to read the data."
   ]
  },
  {
   "cell_type": "code",
   "execution_count": 52,
   "metadata": {},
   "outputs": [],
   "source": [
    "reader = Reader(rating_scale=(0, 5))\n",
    "ratings = []\n",
    "for user_id, row in imdf_r.iterrows():\n",
    "    for item_id, rating in row.items():\n",
    "        ratings.append((str(user_id), str(item_id), rating))\n",
    "ratings_df = pd.DataFrame(ratings, columns=['userID', 'itemID', 'rating'])\n",
    "data = Dataset.load_from_df(ratings_df[['userID', 'itemID', 'rating']], reader)\n",
    "\n"
   ]
  },
  {
   "cell_type": "code",
   "execution_count": 53,
   "metadata": {},
   "outputs": [
    {
     "name": "stdout",
     "output_type": "stream",
     "text": [
      "Evaluating RMSE, MAE of algorithm SVD on 5 split(s).\n",
      "\n",
      "                  Fold 1  Fold 2  Fold 3  Fold 4  Fold 5  Mean    Std     \n",
      "RMSE (testset)    1.5191  1.5183  1.5361  1.5489  1.5325  1.5310  0.0114  \n",
      "MAE (testset)     1.2949  1.2906  1.3107  1.3243  1.3038  1.3049  0.0120  \n",
      "Fit time          0.17    0.15    0.15    0.15    0.15    0.15    0.01    \n",
      "Test time         0.02    0.02    0.02    0.12    0.02    0.04    0.04    \n"
     ]
    },
    {
     "data": {
      "text/plain": [
       "{'test_rmse': array([1.51906464, 1.51828097, 1.53611664, 1.54892947, 1.53247354]),\n",
       " 'test_mae': array([1.2949248 , 1.2906008 , 1.31073996, 1.32425648, 1.30376204]),\n",
       " 'fit_time': (0.1650559902191162,\n",
       "  0.15061688423156738,\n",
       "  0.14901185035705566,\n",
       "  0.1491858959197998,\n",
       "  0.1505904197692871),\n",
       " 'test_time': (0.01655125617980957,\n",
       "  0.01557612419128418,\n",
       "  0.015522003173828125,\n",
       "  0.11651301383972168,\n",
       "  0.015401124954223633)}"
      ]
     },
     "execution_count": 53,
     "metadata": {},
     "output_type": "execute_result"
    }
   ],
   "source": [
    "cross_validate(algo, data, measures = ['RMSE', 'MAE'], cv = 5, verbose = True)"
   ]
  },
  {
   "cell_type": "markdown",
   "metadata": {},
   "source": [
    "---\n",
    "### NMF - Non-negative Matrix Factorisation"
   ]
  },
  {
   "cell_type": "code",
   "execution_count": 55,
   "metadata": {},
   "outputs": [],
   "source": [
    "algo = NMF()"
   ]
  },
  {
   "cell_type": "code",
   "execution_count": 58,
   "metadata": {},
   "outputs": [
    {
     "name": "stdout",
     "output_type": "stream",
     "text": [
      "Evaluating RMSE, MAE of algorithm NMF on 5 split(s).\n",
      "\n",
      "                  Fold 1  Fold 2  Fold 3  Fold 4  Fold 5  Mean    Std     \n",
      "RMSE (testset)    1.4581  1.4585  1.4623  1.4537  1.4643  1.4594  0.0037  \n",
      "MAE (testset)     1.2568  1.2565  1.2632  1.2551  1.2677  1.2598  0.0048  \n",
      "Fit time          0.17    0.14    0.14    0.14    0.14    0.15    0.01    \n",
      "Test time         0.01    0.01    0.07    0.01    0.01    0.02    0.02    \n"
     ]
    },
    {
     "data": {
      "text/plain": [
       "{'test_rmse': array([1.45810061, 1.45854903, 1.46229557, 1.45370183, 1.4642697 ]),\n",
       " 'test_mae': array([1.25679142, 1.2564577 , 1.26322188, 1.25508967, 1.26766373]),\n",
       " 'fit_time': (0.16717314720153809,\n",
       "  0.14203214645385742,\n",
       "  0.1410510540008545,\n",
       "  0.1439528465270996,\n",
       "  0.14159321784973145),\n",
       " 'test_time': (0.013751029968261719,\n",
       "  0.013382911682128906,\n",
       "  0.07115483283996582,\n",
       "  0.01334524154663086,\n",
       "  0.012676715850830078)}"
      ]
     },
     "execution_count": 58,
     "metadata": {},
     "output_type": "execute_result"
    }
   ],
   "source": [
    "cross_validate(algo, data, measures = ['RMSE', 'MAE'], cv = 5, verbose = True)"
   ]
  },
  {
   "cell_type": "markdown",
   "metadata": {},
   "source": [
    "---\n",
    "### SlopeOne()"
   ]
  },
  {
   "cell_type": "code",
   "execution_count": 63,
   "metadata": {},
   "outputs": [],
   "source": [
    "algo = SlopeOne()"
   ]
  },
  {
   "cell_type": "code",
   "execution_count": 64,
   "metadata": {},
   "outputs": [
    {
     "name": "stdout",
     "output_type": "stream",
     "text": [
      "Evaluating RMSE, MAE of algorithm SlopeOne on 5 split(s).\n",
      "\n",
      "                  Fold 1  Fold 2  Fold 3  Fold 4  Fold 5  Mean    Std     \n",
      "RMSE (testset)    1.4279  1.4171  1.4389  1.4218  1.4213  1.4254  0.0076  \n",
      "MAE (testset)     1.2300  1.2177  1.2449  1.2244  1.2239  1.2282  0.0092  \n",
      "Fit time          0.13    0.12    0.11    0.12    0.11    0.12    0.01    \n",
      "Test time         0.47    0.54    0.46    0.47    0.47    0.48    0.03    \n"
     ]
    },
    {
     "data": {
      "text/plain": [
       "{'test_rmse': array([1.42791307, 1.41714347, 1.43886066, 1.4217689 , 1.42130731]),\n",
       " 'test_mae': array([1.22998866, 1.21772557, 1.24488126, 1.22443019, 1.22386899]),\n",
       " 'fit_time': (0.12915515899658203,\n",
       "  0.11556005477905273,\n",
       "  0.11489200592041016,\n",
       "  0.11579108238220215,\n",
       "  0.11313700675964355),\n",
       " 'test_time': (0.47347283363342285,\n",
       "  0.5378050804138184,\n",
       "  0.46018099784851074,\n",
       "  0.4691200256347656,\n",
       "  0.4650609493255615)}"
      ]
     },
     "execution_count": 64,
     "metadata": {},
     "output_type": "execute_result"
    }
   ],
   "source": [
    "cross_validate(algo, data, measures = ['RMSE', 'MAE'], cv = 5, verbose = True)"
   ]
  },
  {
   "cell_type": "code",
   "execution_count": 67,
   "metadata": {},
   "outputs": [
    {
     "name": "stdout",
     "output_type": "stream",
     "text": [
      "Evaluating RMSE, MAE of algorithm SVDpp on 5 split(s).\n",
      "\n",
      "                  Fold 1  Fold 2  Fold 3  Fold 4  Fold 5  Mean    Std     \n",
      "RMSE (testset)    1.5287  1.5425  1.5448  1.5428  1.5174  1.5353  0.0106  \n",
      "MAE (testset)     1.2975  1.3117  1.3095  1.3099  1.2884  1.3034  0.0090  \n",
      "Fit time          3.80    3.71    3.70    3.71    3.74    3.73    0.04    \n",
      "Test time         0.79    0.81    0.78    0.86    0.79    0.81    0.03    \n"
     ]
    },
    {
     "data": {
      "text/plain": [
       "{'test_rmse': array([1.52872898, 1.54253428, 1.54475821, 1.54283102, 1.51741392]),\n",
       " 'test_mae': array([1.29753021, 1.31170461, 1.30949013, 1.30992129, 1.28841578]),\n",
       " 'fit_time': (3.8010001182556152,\n",
       "  3.713340997695923,\n",
       "  3.695087194442749,\n",
       "  3.710900068283081,\n",
       "  3.7365708351135254),\n",
       " 'test_time': (0.7863340377807617,\n",
       "  0.8069970607757568,\n",
       "  0.7829139232635498,\n",
       "  0.8641388416290283,\n",
       "  0.7859749794006348)}"
      ]
     },
     "execution_count": 67,
     "metadata": {},
     "output_type": "execute_result"
    }
   ],
   "source": [
    "algo = SVDpp()\n",
    "cross_validate(algo, data, measures = ['RMSE', 'MAE'], cv = 5, verbose = True)"
   ]
  },
  {
   "cell_type": "markdown",
   "metadata": {},
   "source": [
    "---\n",
    "## Conclusion"
   ]
  },
  {
   "cell_type": "markdown",
   "metadata": {},
   "source": [
    "Due to the randomness of the data, the results of all the matrix factorisation algorithms were poor, with RMSE scores being around 1.5 which is not acceptable given our range of values is 0-4. Hence, matrix factorisation is not incorporated into the final model. However, when more user interaction data is collected as more people use the recommender over time, they can be incorporated in the collaborative layer to identify latent factors and generate recommendations as well as predict missing data in existing interaction matrixc."
   ]
  },
  {
   "cell_type": "markdown",
   "metadata": {},
   "source": []
  }
 ],
 "metadata": {
  "kernelspec": {
   "display_name": "base",
   "language": "python",
   "name": "python3"
  },
  "language_info": {
   "codemirror_mode": {
    "name": "ipython",
    "version": 3
   },
   "file_extension": ".py",
   "mimetype": "text/x-python",
   "name": "python",
   "nbconvert_exporter": "python",
   "pygments_lexer": "ipython3",
   "version": "3.11.5"
  }
 },
 "nbformat": 4,
 "nbformat_minor": 2
}
