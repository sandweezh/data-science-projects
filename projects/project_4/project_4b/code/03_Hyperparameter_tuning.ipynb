{
 "cells": [
  {
   "cell_type": "markdown",
   "metadata": {},
   "source": [
    "<img src=\"http://imgur.com/1ZcRyrc.png\" style=\"float: left; margin: 20px; height: 55px\">\n",
    "\n",
    "# Project 4 - Skin Cancer Detection\n",
    "\n",
    "> Authors: Cher Wee Zheng, Ng Wei, Ryan Yong\n",
    "\n",
    "**Summary:**   \n",
    "- Develop a Neural Network model to differentiate whether the skin abnormality in the image is malignant or benign .\n",
    "- Training data: Malignant and Benign samples\n",
    "\n",
    "There are a total of 4 notebooks for this project:  \n",
    " 1. `01_EDA.ipynb`   \n",
    " 2. `02_Data_Modelling.ipynb`   \n",
    " 3. `03_Hyperparameter_Tuning.ipynb`  \n",
    "\n",
    "---\n",
    "**This Notebook**\n",
    "- In this notebook, the model was attempted to be tuned. However, the tuned model proved to be slightly unstable with inconsistent results. Therefore for the streamlit app, the original un-tuned model will be used instead."
   ]
  },
  {
   "cell_type": "code",
   "execution_count": 41,
   "metadata": {},
   "outputs": [],
   "source": [
    "from tensorflow.keras.models import Sequential\n",
    "from tensorflow.keras.layers import Conv2D, MaxPooling2D, Flatten, Dense\n",
    "from tensorflow.keras.optimizers import Adam\n",
    "from sklearn.model_selection import RandomizedSearchCV\n",
    "from tensorflow.keras.preprocessing.image import ImageDataGenerator\n",
    "from sklearn.base import BaseEstimator\n",
    "\n",
    "\n",
    "import numpy as np\n",
    "import matplotlib.pyplot as plt\n",
    "import math \n",
    "from sklearn.metrics import classification_report, confusion_matrix"
   ]
  },
  {
   "cell_type": "code",
   "execution_count": 19,
   "metadata": {},
   "outputs": [],
   "source": [
    "# Set Original Training and Test Directories\n",
    "train_dir = '../data/train'\n",
    "test_dir = '../data/test'\n",
    "\n",
    "# Set directories for training and validation data\n",
    "train_data_dir = '../data/train_data'\n",
    "validation_data_dir = '../data/validation_data'\n",
    "\n",
    "# Set image size (img_size) and number of classes (num_class)\n",
    "img_size = (128,128)\n",
    "num_classes = 2\n"
   ]
  },
  {
   "cell_type": "markdown",
   "metadata": {},
   "source": [
    "For training data, the images will be augmented slightly similar to model evaluation to ensure model is able to generalize the data and reduce overfitting"
   ]
  },
  {
   "cell_type": "code",
   "execution_count": null,
   "metadata": {},
   "outputs": [],
   "source": [
    "# Prepare the data generators for training and validation\n",
    "train_datagen = ImageDataGenerator(\n",
    "    rotation_range=20,\n",
    "    width_shift_range=0.2,\n",
    "    height_shift_range=0.2,\n",
    "    shear_range=0.2,\n",
    "    zoom_range=0.2,\n",
    "    horizontal_flip=True\n",
    ")\n",
    "val_datagen = ImageDataGenerator()\n",
    "test_datagen = ImageDataGenerator()"
   ]
  },
  {
   "cell_type": "markdown",
   "metadata": {},
   "source": [
    "A function to create the Sequential model is made here for RandomSearchCV"
   ]
  },
  {
   "cell_type": "code",
   "execution_count": null,
   "metadata": {},
   "outputs": [],
   "source": [
    "def create_model(learning_rate, img_size, num_classes):\n",
    "    # Create the CNN model\n",
    "    cnn_model = Sequential([\n",
    "        Conv2D(32, (3, 3), activation='relu', input_shape=(img_size[0], img_size[1], 3)),\n",
    "        MaxPooling2D((2, 2)),\n",
    "        Conv2D(64, (3, 3), activation='relu'),\n",
    "        MaxPooling2D((2, 2)),\n",
    "        Conv2D(64, (3, 3), activation='relu'),\n",
    "        Flatten(),\n",
    "        Dense(64, activation='relu'),\n",
    "        Dense(num_classes, activation='softmax')\n",
    "    ])\n",
    "    \n",
    "    # Compile the model\n",
    "    optimizer = Adam(learning_rate=learning_rate)\n",
    "    cnn_model.compile(optimizer=optimizer, loss='categorical_crossentropy', metrics=['accuracy'])\n",
    "    \n",
    "    return cnn_model"
   ]
  },
  {
   "cell_type": "markdown",
   "metadata": {},
   "source": [
    "Below an attempt to use Object Oriented Programme was made to simulate a Keras Wrapper. This is because when attempting to import keras wrapper from tf.keras, the wrapper did not seem to either load correctly or was not usable."
   ]
  },
  {
   "cell_type": "code",
   "execution_count": null,
   "metadata": {},
   "outputs": [],
   "source": [
    "class KerasEstimator(BaseEstimator):\n",
    "    def __init__(self, learning_rate, epochs, img_size, num_classes):\n",
    "        self.learning_rate = learning_rate\n",
    "        self.epochs = epochs\n",
    "        self.img_size = img_size\n",
    "        self.num_classes = num_classes\n",
    "    \n",
    "    def fit(self, X):\n",
    "        train_generator, validation_generator, batch_size = X\n",
    "        \n",
    "        self.model = create_model(self.learning_rate, self.img_size, self.num_classes)\n",
    "        \n",
    "        self.model.fit(\n",
    "            train_generator,\n",
    "            batch_size = batch_size,\n",
    "            validation_data=validation_generator,\n",
    "            epochs=self.epochs\n",
    "        )\n",
    "        \n",
    "        return self"
   ]
  },
  {
   "cell_type": "markdown",
   "metadata": {},
   "source": [
    "The class however was unable to make a function for scoring that worked, thus for the random search later on, the assessment will be done manually based on validation accuracy."
   ]
  },
  {
   "cell_type": "code",
   "execution_count": null,
   "metadata": {},
   "outputs": [],
   "source": [
    "# Generate training and validation data using data generators\n",
    "train_generator = train_datagen.flow_from_directory(\n",
    "    train_data_dir,\n",
    "    target_size=img_size,\n",
    "    batch_size=32,\n",
    "    class_mode='categorical'\n",
    ")\n",
    "validation_generator = val_datagen.flow_from_directory(\n",
    "    validation_data_dir,\n",
    "    target_size=img_size,\n",
    "    batch_size=32,\n",
    "    class_mode='categorical'\n",
    ")\n",
    "test_generator = test_datagen.flow_from_directory(\n",
    "    test_dir,\n",
    "    target_size=img_size,\n",
    "    batch_size=32,\n",
    "    class_mode='categorical'\n",
    ")\n",
    "batch_size = 32\n",
    "\n",
    "# Define the hyperparameter space for random search\n",
    "param_dist = {\n",
    "    'learning_rate': [0.001, 0.0001, 0.00001],\n",
    "    'epochs': [5, 10,20]\n",
    "}\n",
    "\n",
    "# Create an instance of the KerasEstimator\n",
    "estimator = KerasEstimator(learning_rate=None, epochs=None, img_size=img_size, num_classes=num_classes)"
   ]
  },
  {
   "cell_type": "markdown",
   "metadata": {},
   "source": [
    "RandomSearchCV performed below for 6 iterations with 9 possibilities."
   ]
  },
  {
   "cell_type": "code",
   "execution_count": 31,
   "metadata": {},
   "outputs": [
    {
     "name": "stdout",
     "output_type": "stream",
     "text": [
      "Found 9503 images belonging to 2 classes.\n",
      "Found 2376 images belonging to 2 classes.\n",
      "Found 2000 images belonging to 2 classes.\n",
      "Fitting 1 folds for each of 6 candidates, totalling 6 fits\n",
      "Epoch 1/10\n",
      "\u001b[1m297/297\u001b[0m \u001b[32m━━━━━━━━━━━━━━━━━━━━\u001b[0m\u001b[37m\u001b[0m \u001b[1m59s\u001b[0m 192ms/step - accuracy: 0.6881 - loss: 8.2369 - val_accuracy: 0.8161 - val_loss: 0.4103\n",
      "Epoch 2/10\n",
      "\u001b[1m297/297\u001b[0m \u001b[32m━━━━━━━━━━━━━━━━━━━━\u001b[0m\u001b[37m\u001b[0m \u001b[1m58s\u001b[0m 193ms/step - accuracy: 0.8027 - loss: 0.4358 - val_accuracy: 0.7971 - val_loss: 0.4319\n",
      "Epoch 3/10\n",
      "\u001b[1m297/297\u001b[0m \u001b[32m━━━━━━━━━━━━━━━━━━━━\u001b[0m\u001b[37m\u001b[0m \u001b[1m58s\u001b[0m 191ms/step - accuracy: 0.8091 - loss: 0.4181 - val_accuracy: 0.8300 - val_loss: 0.3726\n",
      "Epoch 4/10\n",
      "\u001b[1m297/297\u001b[0m \u001b[32m━━━━━━━━━━━━━━━━━━━━\u001b[0m\u001b[37m\u001b[0m \u001b[1m57s\u001b[0m 190ms/step - accuracy: 0.8260 - loss: 0.3904 - val_accuracy: 0.8291 - val_loss: 0.4113\n",
      "Epoch 5/10\n",
      "\u001b[1m297/297\u001b[0m \u001b[32m━━━━━━━━━━━━━━━━━━━━\u001b[0m\u001b[37m\u001b[0m \u001b[1m57s\u001b[0m 189ms/step - accuracy: 0.8178 - loss: 0.3965 - val_accuracy: 0.8157 - val_loss: 0.3785\n",
      "Epoch 6/10\n",
      "\u001b[1m297/297\u001b[0m \u001b[32m━━━━━━━━━━━━━━━━━━━━\u001b[0m\u001b[37m\u001b[0m \u001b[1m58s\u001b[0m 191ms/step - accuracy: 0.8246 - loss: 0.3960 - val_accuracy: 0.8161 - val_loss: 0.3974\n",
      "Epoch 7/10\n",
      "\u001b[1m297/297\u001b[0m \u001b[32m━━━━━━━━━━━━━━━━━━━━\u001b[0m\u001b[37m\u001b[0m \u001b[1m58s\u001b[0m 191ms/step - accuracy: 0.8392 - loss: 0.3691 - val_accuracy: 0.8304 - val_loss: 0.3619\n",
      "Epoch 8/10\n",
      "\u001b[1m297/297\u001b[0m \u001b[32m━━━━━━━━━━━━━━━━━━━━\u001b[0m\u001b[37m\u001b[0m \u001b[1m57s\u001b[0m 191ms/step - accuracy: 0.8337 - loss: 0.3626 - val_accuracy: 0.8527 - val_loss: 0.3443\n",
      "Epoch 9/10\n",
      "\u001b[1m297/297\u001b[0m \u001b[32m━━━━━━━━━━━━━━━━━━━━\u001b[0m\u001b[37m\u001b[0m \u001b[1m57s\u001b[0m 190ms/step - accuracy: 0.8358 - loss: 0.3623 - val_accuracy: 0.8380 - val_loss: 0.3612\n",
      "Epoch 10/10\n",
      "\u001b[1m297/297\u001b[0m \u001b[32m━━━━━━━━━━━━━━━━━━━━\u001b[0m\u001b[37m\u001b[0m \u001b[1m57s\u001b[0m 191ms/step - accuracy: 0.8305 - loss: 0.3758 - val_accuracy: 0.8384 - val_loss: 0.3534\n",
      "[CV] END ....................epochs=10, learning_rate=0.0001; total time= 9.6min\n",
      "Epoch 1/10\n",
      "\u001b[1m297/297\u001b[0m \u001b[32m━━━━━━━━━━━━━━━━━━━━\u001b[0m\u001b[37m\u001b[0m \u001b[1m59s\u001b[0m 192ms/step - accuracy: 0.6643 - loss: 1.1557 - val_accuracy: 0.7437 - val_loss: 0.6445\n",
      "Epoch 2/10\n",
      "\u001b[1m297/297\u001b[0m \u001b[32m━━━━━━━━━━━━━━━━━━━━\u001b[0m\u001b[37m\u001b[0m \u001b[1m58s\u001b[0m 191ms/step - accuracy: 0.7452 - loss: 0.5852 - val_accuracy: 0.8123 - val_loss: 0.4495\n",
      "Epoch 3/10\n",
      "\u001b[1m297/297\u001b[0m \u001b[32m━━━━━━━━━━━━━━━━━━━━\u001b[0m\u001b[37m\u001b[0m \u001b[1m58s\u001b[0m 193ms/step - accuracy: 0.7894 - loss: 0.5076 - val_accuracy: 0.7753 - val_loss: 0.4883\n",
      "Epoch 4/10\n",
      "\u001b[1m297/297\u001b[0m \u001b[32m━━━━━━━━━━━━━━━━━━━━\u001b[0m\u001b[37m\u001b[0m \u001b[1m58s\u001b[0m 191ms/step - accuracy: 0.7926 - loss: 0.4800 - val_accuracy: 0.7976 - val_loss: 0.4484\n",
      "Epoch 5/10\n",
      "\u001b[1m297/297\u001b[0m \u001b[32m━━━━━━━━━━━━━━━━━━━━\u001b[0m\u001b[37m\u001b[0m \u001b[1m58s\u001b[0m 192ms/step - accuracy: 0.8139 - loss: 0.4292 - val_accuracy: 0.7955 - val_loss: 0.4471\n",
      "Epoch 6/10\n",
      "\u001b[1m297/297\u001b[0m \u001b[32m━━━━━━━━━━━━━━━━━━━━\u001b[0m\u001b[37m\u001b[0m \u001b[1m58s\u001b[0m 192ms/step - accuracy: 0.8104 - loss: 0.4160 - val_accuracy: 0.8367 - val_loss: 0.3845\n",
      "Epoch 7/10\n",
      "\u001b[1m297/297\u001b[0m \u001b[32m━━━━━━━━━━━━━━━━━━━━\u001b[0m\u001b[37m\u001b[0m \u001b[1m58s\u001b[0m 192ms/step - accuracy: 0.8152 - loss: 0.4205 - val_accuracy: 0.8186 - val_loss: 0.4029\n",
      "Epoch 8/10\n",
      "\u001b[1m297/297\u001b[0m \u001b[32m━━━━━━━━━━━━━━━━━━━━\u001b[0m\u001b[37m\u001b[0m \u001b[1m58s\u001b[0m 191ms/step - accuracy: 0.8200 - loss: 0.4115 - val_accuracy: 0.8426 - val_loss: 0.3619\n",
      "Epoch 9/10\n",
      "\u001b[1m297/297\u001b[0m \u001b[32m━━━━━━━━━━━━━━━━━━━━\u001b[0m\u001b[37m\u001b[0m \u001b[1m58s\u001b[0m 192ms/step - accuracy: 0.8333 - loss: 0.3768 - val_accuracy: 0.8371 - val_loss: 0.3695\n",
      "Epoch 10/10\n",
      "\u001b[1m297/297\u001b[0m \u001b[32m━━━━━━━━━━━━━━━━━━━━\u001b[0m\u001b[37m\u001b[0m \u001b[1m57s\u001b[0m 191ms/step - accuracy: 0.8355 - loss: 0.3881 - val_accuracy: 0.8460 - val_loss: 0.3479\n",
      "[CV] END .....................epochs=10, learning_rate=1e-05; total time= 9.6min\n",
      "Epoch 1/20\n",
      "\u001b[1m297/297\u001b[0m \u001b[32m━━━━━━━━━━━━━━━━━━━━\u001b[0m\u001b[37m\u001b[0m \u001b[1m58s\u001b[0m 190ms/step - accuracy: 0.5240 - loss: 19.8115 - val_accuracy: 0.5295 - val_loss: 0.6917\n",
      "Epoch 2/20\n",
      "\u001b[1m297/297\u001b[0m \u001b[32m━━━━━━━━━━━━━━━━━━━━\u001b[0m\u001b[37m\u001b[0m \u001b[1m57s\u001b[0m 191ms/step - accuracy: 0.5315 - loss: 0.6915 - val_accuracy: 0.5295 - val_loss: 0.6915\n",
      "Epoch 3/20\n",
      "\u001b[1m297/297\u001b[0m \u001b[32m━━━━━━━━━━━━━━━━━━━━\u001b[0m\u001b[37m\u001b[0m \u001b[1m57s\u001b[0m 191ms/step - accuracy: 0.5217 - loss: 0.6923 - val_accuracy: 0.5295 - val_loss: 0.6914\n",
      "Epoch 4/20\n",
      "\u001b[1m297/297\u001b[0m \u001b[32m━━━━━━━━━━━━━━━━━━━━\u001b[0m\u001b[37m\u001b[0m \u001b[1m57s\u001b[0m 190ms/step - accuracy: 0.5285 - loss: 0.6916 - val_accuracy: 0.5295 - val_loss: 0.6914\n",
      "Epoch 5/20\n",
      "\u001b[1m297/297\u001b[0m \u001b[32m━━━━━━━━━━━━━━━━━━━━\u001b[0m\u001b[37m\u001b[0m \u001b[1m57s\u001b[0m 190ms/step - accuracy: 0.5294 - loss: 0.6915 - val_accuracy: 0.5295 - val_loss: 0.6914\n",
      "Epoch 6/20\n",
      "\u001b[1m297/297\u001b[0m \u001b[32m━━━━━━━━━━━━━━━━━━━━\u001b[0m\u001b[37m\u001b[0m \u001b[1m57s\u001b[0m 190ms/step - accuracy: 0.5350 - loss: 0.6908 - val_accuracy: 0.5295 - val_loss: 0.6914\n",
      "Epoch 7/20\n",
      "\u001b[1m297/297\u001b[0m \u001b[32m━━━━━━━━━━━━━━━━━━━━\u001b[0m\u001b[37m\u001b[0m \u001b[1m59s\u001b[0m 196ms/step - accuracy: 0.5391 - loss: 0.6904 - val_accuracy: 0.5295 - val_loss: 0.6914\n",
      "Epoch 8/20\n",
      "\u001b[1m297/297\u001b[0m \u001b[32m━━━━━━━━━━━━━━━━━━━━\u001b[0m\u001b[37m\u001b[0m \u001b[1m61s\u001b[0m 201ms/step - accuracy: 0.5274 - loss: 0.6917 - val_accuracy: 0.5295 - val_loss: 0.6914\n",
      "Epoch 9/20\n",
      "\u001b[1m297/297\u001b[0m \u001b[32m━━━━━━━━━━━━━━━━━━━━\u001b[0m\u001b[37m\u001b[0m \u001b[1m59s\u001b[0m 195ms/step - accuracy: 0.5334 - loss: 0.6911 - val_accuracy: 0.5295 - val_loss: 0.6914\n",
      "Epoch 10/20\n",
      "\u001b[1m297/297\u001b[0m \u001b[32m━━━━━━━━━━━━━━━━━━━━\u001b[0m\u001b[37m\u001b[0m \u001b[1m57s\u001b[0m 188ms/step - accuracy: 0.5325 - loss: 0.6911 - val_accuracy: 0.5295 - val_loss: 0.6914\n",
      "Epoch 11/20\n",
      "\u001b[1m297/297\u001b[0m \u001b[32m━━━━━━━━━━━━━━━━━━━━\u001b[0m\u001b[37m\u001b[0m \u001b[1m57s\u001b[0m 189ms/step - accuracy: 0.5345 - loss: 0.6909 - val_accuracy: 0.5295 - val_loss: 0.6914\n",
      "Epoch 12/20\n",
      "\u001b[1m297/297\u001b[0m \u001b[32m━━━━━━━━━━━━━━━━━━━━\u001b[0m\u001b[37m\u001b[0m \u001b[1m57s\u001b[0m 191ms/step - accuracy: 0.5339 - loss: 0.6910 - val_accuracy: 0.5295 - val_loss: 0.6914\n",
      "Epoch 13/20\n",
      "\u001b[1m297/297\u001b[0m \u001b[32m━━━━━━━━━━━━━━━━━━━━\u001b[0m\u001b[37m\u001b[0m \u001b[1m58s\u001b[0m 192ms/step - accuracy: 0.5300 - loss: 0.6914 - val_accuracy: 0.5295 - val_loss: 0.6914\n",
      "Epoch 14/20\n",
      "\u001b[1m297/297\u001b[0m \u001b[32m━━━━━━━━━━━━━━━━━━━━\u001b[0m\u001b[37m\u001b[0m \u001b[1m58s\u001b[0m 191ms/step - accuracy: 0.5248 - loss: 0.6920 - val_accuracy: 0.5295 - val_loss: 0.6914\n",
      "Epoch 15/20\n",
      "\u001b[1m297/297\u001b[0m \u001b[32m━━━━━━━━━━━━━━━━━━━━\u001b[0m\u001b[37m\u001b[0m \u001b[1m57s\u001b[0m 190ms/step - accuracy: 0.5276 - loss: 0.6917 - val_accuracy: 0.5295 - val_loss: 0.6914\n",
      "Epoch 16/20\n",
      "\u001b[1m297/297\u001b[0m \u001b[32m━━━━━━━━━━━━━━━━━━━━\u001b[0m\u001b[37m\u001b[0m \u001b[1m57s\u001b[0m 189ms/step - accuracy: 0.5314 - loss: 0.6912 - val_accuracy: 0.5295 - val_loss: 0.6914\n",
      "Epoch 17/20\n",
      "\u001b[1m297/297\u001b[0m \u001b[32m━━━━━━━━━━━━━━━━━━━━\u001b[0m\u001b[37m\u001b[0m \u001b[1m57s\u001b[0m 190ms/step - accuracy: 0.5298 - loss: 0.6914 - val_accuracy: 0.5295 - val_loss: 0.6914\n",
      "Epoch 18/20\n",
      "\u001b[1m297/297\u001b[0m \u001b[32m━━━━━━━━━━━━━━━━━━━━\u001b[0m\u001b[37m\u001b[0m \u001b[1m57s\u001b[0m 191ms/step - accuracy: 0.5183 - loss: 0.6927 - val_accuracy: 0.5295 - val_loss: 0.6914\n",
      "Epoch 19/20\n",
      "\u001b[1m297/297\u001b[0m \u001b[32m━━━━━━━━━━━━━━━━━━━━\u001b[0m\u001b[37m\u001b[0m \u001b[1m58s\u001b[0m 193ms/step - accuracy: 0.5370 - loss: 0.6905 - val_accuracy: 0.5295 - val_loss: 0.6914\n",
      "Epoch 20/20\n",
      "\u001b[1m297/297\u001b[0m \u001b[32m━━━━━━━━━━━━━━━━━━━━\u001b[0m\u001b[37m\u001b[0m \u001b[1m60s\u001b[0m 199ms/step - accuracy: 0.5321 - loss: 0.6912 - val_accuracy: 0.5295 - val_loss: 0.6914\n",
      "[CV] END .....................epochs=20, learning_rate=0.001; total time=19.3min\n",
      "Epoch 1/10\n",
      "\u001b[1m297/297\u001b[0m \u001b[32m━━━━━━━━━━━━━━━━━━━━\u001b[0m\u001b[37m\u001b[0m \u001b[1m61s\u001b[0m 198ms/step - accuracy: 0.6490 - loss: 14.5195 - val_accuracy: 0.6894 - val_loss: 0.6038\n",
      "Epoch 2/10\n",
      "\u001b[1m297/297\u001b[0m \u001b[32m━━━━━━━━━━━━━━━━━━━━\u001b[0m\u001b[37m\u001b[0m \u001b[1m59s\u001b[0m 197ms/step - accuracy: 0.6884 - loss: 0.7862 - val_accuracy: 0.6709 - val_loss: 0.5900\n",
      "Epoch 3/10\n",
      "\u001b[1m297/297\u001b[0m \u001b[32m━━━━━━━━━━━━━━━━━━━━\u001b[0m\u001b[37m\u001b[0m \u001b[1m59s\u001b[0m 197ms/step - accuracy: 0.6797 - loss: 0.8686 - val_accuracy: 0.6296 - val_loss: 0.6226\n",
      "Epoch 4/10\n",
      "\u001b[1m297/297\u001b[0m \u001b[32m━━━━━━━━━━━━━━━━━━━━\u001b[0m\u001b[37m\u001b[0m \u001b[1m60s\u001b[0m 200ms/step - accuracy: 0.6632 - loss: 0.5973 - val_accuracy: 0.6397 - val_loss: 0.6112\n",
      "Epoch 5/10\n",
      "\u001b[1m297/297\u001b[0m \u001b[32m━━━━━━━━━━━━━━━━━━━━\u001b[0m\u001b[37m\u001b[0m \u001b[1m60s\u001b[0m 198ms/step - accuracy: 0.6622 - loss: 0.5990 - val_accuracy: 0.6456 - val_loss: 0.6111\n",
      "Epoch 6/10\n",
      "\u001b[1m297/297\u001b[0m \u001b[32m━━━━━━━━━━━━━━━━━━━━\u001b[0m\u001b[37m\u001b[0m \u001b[1m59s\u001b[0m 197ms/step - accuracy: 0.6696 - loss: 0.5985 - val_accuracy: 0.6317 - val_loss: 0.6158\n",
      "Epoch 7/10\n",
      "\u001b[1m297/297\u001b[0m \u001b[32m━━━━━━━━━━━━━━━━━━━━\u001b[0m\u001b[37m\u001b[0m \u001b[1m58s\u001b[0m 194ms/step - accuracy: 0.6618 - loss: 0.6018 - val_accuracy: 0.6519 - val_loss: 0.6053\n",
      "Epoch 8/10\n",
      "\u001b[1m297/297\u001b[0m \u001b[32m━━━━━━━━━━━━━━━━━━━━\u001b[0m\u001b[37m\u001b[0m \u001b[1m58s\u001b[0m 194ms/step - accuracy: 0.6701 - loss: 0.5951 - val_accuracy: 0.6309 - val_loss: 0.6198\n",
      "Epoch 9/10\n",
      "\u001b[1m297/297\u001b[0m \u001b[32m━━━━━━━━━━━━━━━━━━━━\u001b[0m\u001b[37m\u001b[0m \u001b[1m58s\u001b[0m 192ms/step - accuracy: 0.6578 - loss: 0.6117 - val_accuracy: 0.6246 - val_loss: 0.6196\n",
      "Epoch 10/10\n",
      "\u001b[1m297/297\u001b[0m \u001b[32m━━━━━━━━━━━━━━━━━━━━\u001b[0m\u001b[37m\u001b[0m \u001b[1m58s\u001b[0m 193ms/step - accuracy: 0.6608 - loss: 0.5946 - val_accuracy: 0.6684 - val_loss: 0.6027\n",
      "[CV] END .....................epochs=10, learning_rate=0.001; total time= 9.9min\n",
      "Epoch 1/20\n",
      "\u001b[1m297/297\u001b[0m \u001b[32m━━━━━━━━━━━━━━━━━━━━\u001b[0m\u001b[37m\u001b[0m \u001b[1m59s\u001b[0m 194ms/step - accuracy: 0.6655 - loss: 7.5176 - val_accuracy: 0.7845 - val_loss: 0.4682\n",
      "Epoch 2/20\n",
      "\u001b[1m297/297\u001b[0m \u001b[32m━━━━━━━━━━━━━━━━━━━━\u001b[0m\u001b[37m\u001b[0m \u001b[1m58s\u001b[0m 193ms/step - accuracy: 0.7980 - loss: 0.4492 - val_accuracy: 0.7816 - val_loss: 0.4421\n",
      "Epoch 3/20\n",
      "\u001b[1m297/297\u001b[0m \u001b[32m━━━━━━━━━━━━━━━━━━━━\u001b[0m\u001b[37m\u001b[0m \u001b[1m58s\u001b[0m 193ms/step - accuracy: 0.8108 - loss: 0.4128 - val_accuracy: 0.7765 - val_loss: 0.5132\n",
      "Epoch 4/20\n",
      "\u001b[1m297/297\u001b[0m \u001b[32m━━━━━━━━━━━━━━━━━━━━\u001b[0m\u001b[37m\u001b[0m \u001b[1m58s\u001b[0m 194ms/step - accuracy: 0.8170 - loss: 0.4114 - val_accuracy: 0.8519 - val_loss: 0.3554\n",
      "Epoch 5/20\n",
      "\u001b[1m297/297\u001b[0m \u001b[32m━━━━━━━━━━━━━━━━━━━━\u001b[0m\u001b[37m\u001b[0m \u001b[1m59s\u001b[0m 194ms/step - accuracy: 0.8351 - loss: 0.3692 - val_accuracy: 0.8510 - val_loss: 0.3573\n",
      "Epoch 6/20\n",
      "\u001b[1m297/297\u001b[0m \u001b[32m━━━━━━━━━━━━━━━━━━━━\u001b[0m\u001b[37m\u001b[0m \u001b[1m58s\u001b[0m 193ms/step - accuracy: 0.8369 - loss: 0.3640 - val_accuracy: 0.8514 - val_loss: 0.3576\n",
      "Epoch 7/20\n",
      "\u001b[1m297/297\u001b[0m \u001b[32m━━━━━━━━━━━━━━━━━━━━\u001b[0m\u001b[37m\u001b[0m \u001b[1m59s\u001b[0m 194ms/step - accuracy: 0.8434 - loss: 0.3436 - val_accuracy: 0.8119 - val_loss: 0.3805\n",
      "Epoch 8/20\n",
      "\u001b[1m297/297\u001b[0m \u001b[32m━━━━━━━━━━━━━━━━━━━━\u001b[0m\u001b[37m\u001b[0m \u001b[1m59s\u001b[0m 194ms/step - accuracy: 0.8415 - loss: 0.3563 - val_accuracy: 0.8582 - val_loss: 0.3481\n",
      "Epoch 9/20\n",
      "\u001b[1m297/297\u001b[0m \u001b[32m━━━━━━━━━━━━━━━━━━━━\u001b[0m\u001b[37m\u001b[0m \u001b[1m59s\u001b[0m 195ms/step - accuracy: 0.8349 - loss: 0.3638 - val_accuracy: 0.8544 - val_loss: 0.3724\n",
      "Epoch 10/20\n",
      "\u001b[1m297/297\u001b[0m \u001b[32m━━━━━━━━━━━━━━━━━━━━\u001b[0m\u001b[37m\u001b[0m \u001b[1m58s\u001b[0m 193ms/step - accuracy: 0.8443 - loss: 0.3536 - val_accuracy: 0.8333 - val_loss: 0.3545\n",
      "Epoch 11/20\n",
      "\u001b[1m297/297\u001b[0m \u001b[32m━━━━━━━━━━━━━━━━━━━━\u001b[0m\u001b[37m\u001b[0m \u001b[1m58s\u001b[0m 194ms/step - accuracy: 0.8437 - loss: 0.3540 - val_accuracy: 0.7976 - val_loss: 0.4036\n",
      "Epoch 12/20\n",
      "\u001b[1m297/297\u001b[0m \u001b[32m━━━━━━━━━━━━━━━━━━━━\u001b[0m\u001b[37m\u001b[0m \u001b[1m58s\u001b[0m 194ms/step - accuracy: 0.8437 - loss: 0.3420 - val_accuracy: 0.8548 - val_loss: 0.3429\n",
      "Epoch 13/20\n",
      "\u001b[1m297/297\u001b[0m \u001b[32m━━━━━━━━━━━━━━━━━━━━\u001b[0m\u001b[37m\u001b[0m \u001b[1m58s\u001b[0m 193ms/step - accuracy: 0.8536 - loss: 0.3332 - val_accuracy: 0.8573 - val_loss: 0.3376\n",
      "Epoch 14/20\n",
      "\u001b[1m297/297\u001b[0m \u001b[32m━━━━━━━━━━━━━━━━━━━━\u001b[0m\u001b[37m\u001b[0m \u001b[1m60s\u001b[0m 198ms/step - accuracy: 0.8500 - loss: 0.3428 - val_accuracy: 0.8451 - val_loss: 0.3500\n",
      "Epoch 15/20\n",
      "\u001b[1m297/297\u001b[0m \u001b[32m━━━━━━━━━━━━━━━━━━━━\u001b[0m\u001b[37m\u001b[0m \u001b[1m60s\u001b[0m 200ms/step - accuracy: 0.8600 - loss: 0.3336 - val_accuracy: 0.8590 - val_loss: 0.3668\n",
      "Epoch 16/20\n",
      "\u001b[1m297/297\u001b[0m \u001b[32m━━━━━━━━━━━━━━━━━━━━\u001b[0m\u001b[37m\u001b[0m \u001b[1m61s\u001b[0m 202ms/step - accuracy: 0.8539 - loss: 0.3365 - val_accuracy: 0.7946 - val_loss: 0.4230\n",
      "Epoch 17/20\n",
      "\u001b[1m297/297\u001b[0m \u001b[32m━━━━━━━━━━━━━━━━━━━━\u001b[0m\u001b[37m\u001b[0m \u001b[1m59s\u001b[0m 197ms/step - accuracy: 0.8471 - loss: 0.3403 - val_accuracy: 0.8359 - val_loss: 0.3471\n",
      "Epoch 18/20\n",
      "\u001b[1m297/297\u001b[0m \u001b[32m━━━━━━━━━━━━━━━━━━━━\u001b[0m\u001b[37m\u001b[0m \u001b[1m59s\u001b[0m 196ms/step - accuracy: 0.8591 - loss: 0.3265 - val_accuracy: 0.8636 - val_loss: 0.3244\n",
      "Epoch 19/20\n",
      "\u001b[1m297/297\u001b[0m \u001b[32m━━━━━━━━━━━━━━━━━━━━\u001b[0m\u001b[37m\u001b[0m \u001b[1m59s\u001b[0m 195ms/step - accuracy: 0.8579 - loss: 0.3162 - val_accuracy: 0.8674 - val_loss: 0.3308\n",
      "Epoch 20/20\n",
      "\u001b[1m297/297\u001b[0m \u001b[32m━━━━━━━━━━━━━━━━━━━━\u001b[0m\u001b[37m\u001b[0m \u001b[1m59s\u001b[0m 196ms/step - accuracy: 0.8622 - loss: 0.3208 - val_accuracy: 0.8620 - val_loss: 0.3202\n",
      "[CV] END ....................epochs=20, learning_rate=0.0001; total time=19.6min\n",
      "Epoch 1/5\n",
      "\u001b[1m297/297\u001b[0m \u001b[32m━━━━━━━━━━━━━━━━━━━━\u001b[0m\u001b[37m\u001b[0m \u001b[1m62s\u001b[0m 201ms/step - accuracy: 0.6849 - loss: 4.2885 - val_accuracy: 0.7997 - val_loss: 0.4485\n",
      "Epoch 2/5\n",
      "\u001b[1m297/297\u001b[0m \u001b[32m━━━━━━━━━━━━━━━━━━━━\u001b[0m\u001b[37m\u001b[0m \u001b[1m59s\u001b[0m 196ms/step - accuracy: 0.7955 - loss: 0.4393 - val_accuracy: 0.8312 - val_loss: 0.3954\n",
      "Epoch 3/5\n",
      "\u001b[1m297/297\u001b[0m \u001b[32m━━━━━━━━━━━━━━━━━━━━\u001b[0m\u001b[37m\u001b[0m \u001b[1m59s\u001b[0m 196ms/step - accuracy: 0.8251 - loss: 0.3938 - val_accuracy: 0.8363 - val_loss: 0.3874\n",
      "Epoch 4/5\n",
      "\u001b[1m297/297\u001b[0m \u001b[32m━━━━━━━━━━━━━━━━━━━━\u001b[0m\u001b[37m\u001b[0m \u001b[1m59s\u001b[0m 195ms/step - accuracy: 0.8297 - loss: 0.3793 - val_accuracy: 0.8283 - val_loss: 0.3844\n",
      "Epoch 5/5\n",
      "\u001b[1m297/297\u001b[0m \u001b[32m━━━━━━━━━━━━━━━━━━━━\u001b[0m\u001b[37m\u001b[0m \u001b[1m59s\u001b[0m 194ms/step - accuracy: 0.8175 - loss: 0.3981 - val_accuracy: 0.8279 - val_loss: 0.3734\n",
      "[CV] END .....................epochs=5, learning_rate=0.0001; total time= 5.0min\n"
     ]
    },
    {
     "name": "stderr",
     "output_type": "stream",
     "text": [
      "c:\\Users\\Ryany\\anaconda3\\Lib\\site-packages\\sklearn\\model_selection\\_search.py:976: UserWarning: One or more of the test scores are non-finite: [nan nan nan nan nan nan]\n",
      "  warnings.warn(\n"
     ]
    },
    {
     "name": "stdout",
     "output_type": "stream",
     "text": [
      "Epoch 1/10\n",
      "\u001b[1m297/297\u001b[0m \u001b[32m━━━━━━━━━━━━━━━━━━━━\u001b[0m\u001b[37m\u001b[0m \u001b[1m60s\u001b[0m 196ms/step - accuracy: 0.6894 - loss: 3.6642 - val_accuracy: 0.7875 - val_loss: 0.4628\n",
      "Epoch 2/10\n",
      "\u001b[1m297/297\u001b[0m \u001b[32m━━━━━━━━━━━━━━━━━━━━\u001b[0m\u001b[37m\u001b[0m \u001b[1m59s\u001b[0m 195ms/step - accuracy: 0.8103 - loss: 0.4129 - val_accuracy: 0.8363 - val_loss: 0.3641\n",
      "Epoch 3/10\n",
      "\u001b[1m297/297\u001b[0m \u001b[32m━━━━━━━━━━━━━━━━━━━━\u001b[0m\u001b[37m\u001b[0m \u001b[1m61s\u001b[0m 204ms/step - accuracy: 0.8147 - loss: 0.4005 - val_accuracy: 0.8422 - val_loss: 0.3607\n",
      "Epoch 4/10\n",
      "\u001b[1m297/297\u001b[0m \u001b[32m━━━━━━━━━━━━━━━━━━━━\u001b[0m\u001b[37m\u001b[0m \u001b[1m64s\u001b[0m 213ms/step - accuracy: 0.8310 - loss: 0.3751 - val_accuracy: 0.8253 - val_loss: 0.3944\n",
      "Epoch 5/10\n",
      "\u001b[1m297/297\u001b[0m \u001b[32m━━━━━━━━━━━━━━━━━━━━\u001b[0m\u001b[37m\u001b[0m \u001b[1m63s\u001b[0m 208ms/step - accuracy: 0.8388 - loss: 0.3653 - val_accuracy: 0.8287 - val_loss: 0.4033\n",
      "Epoch 6/10\n",
      "\u001b[1m297/297\u001b[0m \u001b[32m━━━━━━━━━━━━━━━━━━━━\u001b[0m\u001b[37m\u001b[0m \u001b[1m65s\u001b[0m 215ms/step - accuracy: 0.8261 - loss: 0.3815 - val_accuracy: 0.8468 - val_loss: 0.3419\n",
      "Epoch 7/10\n",
      "\u001b[1m297/297\u001b[0m \u001b[32m━━━━━━━━━━━━━━━━━━━━\u001b[0m\u001b[37m\u001b[0m \u001b[1m63s\u001b[0m 209ms/step - accuracy: 0.8412 - loss: 0.3614 - val_accuracy: 0.8359 - val_loss: 0.3700\n",
      "Epoch 8/10\n",
      "\u001b[1m297/297\u001b[0m \u001b[32m━━━━━━━━━━━━━━━━━━━━\u001b[0m\u001b[37m\u001b[0m \u001b[1m63s\u001b[0m 211ms/step - accuracy: 0.8491 - loss: 0.3458 - val_accuracy: 0.8582 - val_loss: 0.3378\n",
      "Epoch 9/10\n",
      "\u001b[1m297/297\u001b[0m \u001b[32m━━━━━━━━━━━━━━━━━━━━\u001b[0m\u001b[37m\u001b[0m \u001b[1m63s\u001b[0m 210ms/step - accuracy: 0.8474 - loss: 0.3438 - val_accuracy: 0.8447 - val_loss: 0.3512\n",
      "Epoch 10/10\n",
      "\u001b[1m297/297\u001b[0m \u001b[32m━━━━━━━━━━━━━━━━━━━━\u001b[0m\u001b[37m\u001b[0m \u001b[1m64s\u001b[0m 211ms/step - accuracy: 0.8496 - loss: 0.3470 - val_accuracy: 0.8502 - val_loss: 0.3422\n",
      "Best parameters:  {'learning_rate': 0.0001, 'epochs': 10}\n",
      "Best score:  nan\n"
     ]
    }
   ],
   "source": [
    "# Perform random search\n",
    "random_search = RandomizedSearchCV(\n",
    "    estimator=estimator,\n",
    "    param_distributions=param_dist,\n",
    "    n_iter=6,\n",
    "    cv=[(slice(None), slice(None))],  # Use the entire dataset for each iteration\n",
    "    verbose=2,\n",
    "    scoring='accuracy'\n",
    ")\n",
    "\n",
    "random_search.fit(\n",
    "    X=(train_generator, validation_generator, batch_size), X_2 = test_generator\n",
    ")\n",
    "\n",
    "# Print the best parameters and score\n",
    "print(\"Best parameters: \", random_search.best_params_)\n",
    "print(\"Best score: \", random_search.best_score_)"
   ]
  },
  {
   "cell_type": "markdown",
   "metadata": {},
   "source": [
    "As the Class KerasEstimator does not work properly for scoring, the best parameter will be obtained manually through the validation accuracy. After scrolling through the results, it was determined that the optimal learning_rate and Epoch was 0.0001 and 20. "
   ]
  },
  {
   "cell_type": "code",
   "execution_count": 37,
   "metadata": {},
   "outputs": [
    {
     "name": "stderr",
     "output_type": "stream",
     "text": [
      "c:\\Users\\Ryany\\anaconda3\\Lib\\site-packages\\keras\\src\\layers\\convolutional\\base_conv.py:99: UserWarning: Do not pass an `input_shape`/`input_dim` argument to a layer. When using Sequential models, prefer using an `Input(shape)` object as the first layer in the model instead.\n",
      "  super().__init__(\n"
     ]
    }
   ],
   "source": [
    "optimal_model = Sequential([\n",
    "    Conv2D(32, (3, 3), activation='relu', input_shape=(img_size[0], img_size[1], 3)),\n",
    "    MaxPooling2D((2, 2)),\n",
    "    Conv2D(64, (3, 3), activation='relu'),\n",
    "    MaxPooling2D((2, 2)),\n",
    "    Conv2D(64, (3, 3), activation='relu'),\n",
    "    Flatten(),\n",
    "    Dense(64, activation='relu'),\n",
    "    Dense(num_classes, activation='softmax')\n",
    "])\n",
    "\n",
    "# Compile the model\n",
    "optimizer = Adam(learning_rate=0.0001)\n",
    "optimal_model.compile(optimizer=optimizer, loss='categorical_crossentropy', metrics=['accuracy'])\n"
   ]
  },
  {
   "cell_type": "code",
   "execution_count": 38,
   "metadata": {},
   "outputs": [
    {
     "name": "stdout",
     "output_type": "stream",
     "text": [
      "Epoch 1/20\n",
      "\u001b[1m297/297\u001b[0m \u001b[32m━━━━━━━━━━━━━━━━━━━━\u001b[0m\u001b[37m\u001b[0m \u001b[1m66s\u001b[0m 216ms/step - accuracy: 0.6872 - loss: 8.1221 - val_accuracy: 0.8161 - val_loss: 0.4315\n",
      "Epoch 2/20\n",
      "\u001b[1m297/297\u001b[0m \u001b[32m━━━━━━━━━━━━━━━━━━━━\u001b[0m\u001b[37m\u001b[0m \u001b[1m72s\u001b[0m 240ms/step - accuracy: 0.8039 - loss: 0.4424 - val_accuracy: 0.8081 - val_loss: 0.4237\n",
      "Epoch 3/20\n",
      "\u001b[1m297/297\u001b[0m \u001b[32m━━━━━━━━━━━━━━━━━━━━\u001b[0m\u001b[37m\u001b[0m \u001b[1m68s\u001b[0m 227ms/step - accuracy: 0.8134 - loss: 0.4013 - val_accuracy: 0.8279 - val_loss: 0.3733\n",
      "Epoch 4/20\n",
      "\u001b[1m297/297\u001b[0m \u001b[32m━━━━━━━━━━━━━━━━━━━━\u001b[0m\u001b[37m\u001b[0m \u001b[1m67s\u001b[0m 224ms/step - accuracy: 0.8236 - loss: 0.3847 - val_accuracy: 0.8060 - val_loss: 0.4402\n",
      "Epoch 5/20\n",
      "\u001b[1m297/297\u001b[0m \u001b[32m━━━━━━━━━━━━━━━━━━━━\u001b[0m\u001b[37m\u001b[0m \u001b[1m64s\u001b[0m 213ms/step - accuracy: 0.8241 - loss: 0.3952 - val_accuracy: 0.8422 - val_loss: 0.3743\n",
      "Epoch 6/20\n",
      "\u001b[1m297/297\u001b[0m \u001b[32m━━━━━━━━━━━━━━━━━━━━\u001b[0m\u001b[37m\u001b[0m \u001b[1m65s\u001b[0m 217ms/step - accuracy: 0.8326 - loss: 0.3811 - val_accuracy: 0.8548 - val_loss: 0.3457\n",
      "Epoch 7/20\n",
      "\u001b[1m297/297\u001b[0m \u001b[32m━━━━━━━━━━━━━━━━━━━━\u001b[0m\u001b[37m\u001b[0m \u001b[1m67s\u001b[0m 221ms/step - accuracy: 0.8350 - loss: 0.3806 - val_accuracy: 0.8464 - val_loss: 0.3523\n",
      "Epoch 8/20\n",
      "\u001b[1m297/297\u001b[0m \u001b[32m━━━━━━━━━━━━━━━━━━━━\u001b[0m\u001b[37m\u001b[0m \u001b[1m67s\u001b[0m 223ms/step - accuracy: 0.8370 - loss: 0.3628 - val_accuracy: 0.8123 - val_loss: 0.3944\n",
      "Epoch 9/20\n",
      "\u001b[1m297/297\u001b[0m \u001b[32m━━━━━━━━━━━━━━━━━━━━\u001b[0m\u001b[37m\u001b[0m \u001b[1m68s\u001b[0m 224ms/step - accuracy: 0.8385 - loss: 0.3610 - val_accuracy: 0.8493 - val_loss: 0.3498\n",
      "Epoch 10/20\n",
      "\u001b[1m297/297\u001b[0m \u001b[32m━━━━━━━━━━━━━━━━━━━━\u001b[0m\u001b[37m\u001b[0m \u001b[1m73s\u001b[0m 241ms/step - accuracy: 0.8339 - loss: 0.3652 - val_accuracy: 0.8169 - val_loss: 0.3916\n",
      "Epoch 11/20\n",
      "\u001b[1m297/297\u001b[0m \u001b[32m━━━━━━━━━━━━━━━━━━━━\u001b[0m\u001b[37m\u001b[0m \u001b[1m72s\u001b[0m 238ms/step - accuracy: 0.8428 - loss: 0.3547 - val_accuracy: 0.8481 - val_loss: 0.3823\n",
      "Epoch 12/20\n",
      "\u001b[1m297/297\u001b[0m \u001b[32m━━━━━━━━━━━━━━━━━━━━\u001b[0m\u001b[37m\u001b[0m \u001b[1m72s\u001b[0m 238ms/step - accuracy: 0.8386 - loss: 0.3642 - val_accuracy: 0.8451 - val_loss: 0.3754\n",
      "Epoch 13/20\n",
      "\u001b[1m297/297\u001b[0m \u001b[32m━━━━━━━━━━━━━━━━━━━━\u001b[0m\u001b[37m\u001b[0m \u001b[1m72s\u001b[0m 239ms/step - accuracy: 0.8535 - loss: 0.3328 - val_accuracy: 0.8632 - val_loss: 0.3270\n",
      "Epoch 14/20\n",
      "\u001b[1m297/297\u001b[0m \u001b[32m━━━━━━━━━━━━━━━━━━━━\u001b[0m\u001b[37m\u001b[0m \u001b[1m72s\u001b[0m 239ms/step - accuracy: 0.8535 - loss: 0.3338 - val_accuracy: 0.8510 - val_loss: 0.3301\n",
      "Epoch 15/20\n",
      "\u001b[1m297/297\u001b[0m \u001b[32m━━━━━━━━━━━━━━━━━━━━\u001b[0m\u001b[37m\u001b[0m \u001b[1m72s\u001b[0m 238ms/step - accuracy: 0.8595 - loss: 0.3354 - val_accuracy: 0.8190 - val_loss: 0.4228\n",
      "Epoch 16/20\n",
      "\u001b[1m297/297\u001b[0m \u001b[32m━━━━━━━━━━━━━━━━━━━━\u001b[0m\u001b[37m\u001b[0m \u001b[1m72s\u001b[0m 241ms/step - accuracy: 0.8527 - loss: 0.3417 - val_accuracy: 0.8607 - val_loss: 0.3277\n",
      "Epoch 17/20\n",
      "\u001b[1m297/297\u001b[0m \u001b[32m━━━━━━━━━━━━━━━━━━━━\u001b[0m\u001b[37m\u001b[0m \u001b[1m72s\u001b[0m 238ms/step - accuracy: 0.8542 - loss: 0.3389 - val_accuracy: 0.8620 - val_loss: 0.3373\n",
      "Epoch 18/20\n",
      "\u001b[1m297/297\u001b[0m \u001b[32m━━━━━━━━━━━━━━━━━━━━\u001b[0m\u001b[37m\u001b[0m \u001b[1m73s\u001b[0m 243ms/step - accuracy: 0.8550 - loss: 0.3263 - val_accuracy: 0.8535 - val_loss: 0.3629\n",
      "Epoch 19/20\n",
      "\u001b[1m297/297\u001b[0m \u001b[32m━━━━━━━━━━━━━━━━━━━━\u001b[0m\u001b[37m\u001b[0m \u001b[1m72s\u001b[0m 239ms/step - accuracy: 0.8566 - loss: 0.3332 - val_accuracy: 0.8338 - val_loss: 0.3716\n",
      "Epoch 20/20\n",
      "\u001b[1m297/297\u001b[0m \u001b[32m━━━━━━━━━━━━━━━━━━━━\u001b[0m\u001b[37m\u001b[0m \u001b[1m72s\u001b[0m 240ms/step - accuracy: 0.8542 - loss: 0.3238 - val_accuracy: 0.8641 - val_loss: 0.3309\n"
     ]
    }
   ],
   "source": [
    "# Train the model\n",
    "opt_history = optimal_model.fit(train_generator,\n",
    "          batch_size = batch_size,\n",
    "          epochs=20,\n",
    "          validation_data=validation_generator,)"
   ]
  },
  {
   "cell_type": "markdown",
   "metadata": {},
   "source": [
    "Fitted model shows a validation accuracy of 0.864, which is an improvement of the intiial model of 0.856. However the difference is considered minor, but an improvement nonetheless."
   ]
  },
  {
   "cell_type": "code",
   "execution_count": 53,
   "metadata": {},
   "outputs": [
    {
     "name": "stdout",
     "output_type": "stream",
     "text": [
      "Found 2000 images belonging to 2 classes.\n"
     ]
    }
   ],
   "source": [
    "test_generator = test_datagen.flow_from_directory(\n",
    "    test_dir,\n",
    "    target_size=img_size,\n",
    "    batch_size=32,\n",
    "    class_mode='categorical'\n",
    ")\n"
   ]
  },
  {
   "cell_type": "code",
   "execution_count": 54,
   "metadata": {},
   "outputs": [
    {
     "name": "stdout",
     "output_type": "stream",
     "text": [
      "\u001b[1m 3/63\u001b[0m \u001b[37m━━━━━━━━━━━━━━━━━━━━\u001b[0m \u001b[1m3s\u001b[0m 58ms/step"
     ]
    },
    {
     "name": "stderr",
     "output_type": "stream",
     "text": [
      "c:\\Users\\Ryany\\anaconda3\\Lib\\site-packages\\keras\\src\\trainers\\data_adapters\\py_dataset_adapter.py:120: UserWarning: Your `PyDataset` class should call `super().__init__(**kwargs)` in its constructor. `**kwargs` can include `workers`, `use_multiprocessing`, `max_queue_size`. Do not pass these arguments to `fit()`, as they will be ignored.\n",
      "  self._warn_if_super_not_called()\n"
     ]
    },
    {
     "name": "stdout",
     "output_type": "stream",
     "text": [
      "\u001b[1m63/63\u001b[0m \u001b[32m━━━━━━━━━━━━━━━━━━━━\u001b[0m\u001b[37m\u001b[0m \u001b[1m3s\u001b[0m 46ms/step\n"
     ]
    }
   ],
   "source": [
    "# Generate predictions on the test set\n",
    "test_generator.reset()\n",
    "steps = math.ceil(test_generator.samples / test_generator.batch_size)\n",
    "opt_predictions = optimal_model.predict(test_generator, steps=steps)\n",
    "opt_predicted_classes = np.argmax(opt_predictions, axis=1)\n",
    "\n",
    "# Get the true labels from the test generator\n",
    "true_classes = test_generator.classes\n"
   ]
  },
  {
   "cell_type": "code",
   "execution_count": 55,
   "metadata": {},
   "outputs": [
    {
     "name": "stdout",
     "output_type": "stream",
     "text": [
      "\u001b[1m63/63\u001b[0m \u001b[32m━━━━━━━━━━━━━━━━━━━━\u001b[0m\u001b[37m\u001b[0m \u001b[1m3s\u001b[0m 43ms/step - accuracy: 0.8749 - loss: 0.3133\n",
      "Test Accuracy: 0.8799999952316284\n"
     ]
    }
   ],
   "source": [
    "# Evaluate the model on the test set\n",
    "test_loss, test_accuracy = optimal_model.evaluate(test_generator)\n",
    "\n",
    "# Print the test accuracy\n",
    "print(\"Test Accuracy:\", test_accuracy)"
   ]
  },
  {
   "cell_type": "markdown",
   "metadata": {},
   "source": [
    "Test Accuracy shows 0.880, lower than the initial model of 0.884. this probably means that the 'optimized' learning rate was probably too slow and worse than the initial model's hyperparameters."
   ]
  },
  {
   "cell_type": "code",
   "execution_count": 56,
   "metadata": {},
   "outputs": [
    {
     "data": {
      "image/png": "[encoded data removed]",
      "text/plain": [
       "<Figure size 1200x400 with 2 Axes>"
      ]
     },
     "metadata": {},
     "output_type": "display_data"
    }
   ],
   "source": [
    "# Plot the training and validation loss\n",
    "plt.figure(figsize=(12, 4))\n",
    "plt.subplot(1, 2, 1)\n",
    "plt.plot(opt_history.history['loss'], label='Training Loss')\n",
    "plt.plot(opt_history.history['val_loss'], label='Validation Loss')\n",
    "plt.xlabel('Epoch')\n",
    "plt.ylabel('Loss')\n",
    "plt.ylim(0, 1)\n",
    "plt.yticks([i/10 for i in range(11)]) \n",
    "plt.legend()\n",
    "plt.title('Final Training and Validation Loss for CNN')\n",
    "\n",
    "# Plot the training and validation accuracy\n",
    "plt.subplot(1, 2, 2)\n",
    "plt.plot(opt_history.history['accuracy'], label='Training Accuracy')\n",
    "plt.plot(opt_history.history['val_accuracy'], label='Validation Accuracy')\n",
    "plt.xlabel('Epoch')\n",
    "plt.ylabel('Accuracy')\n",
    "plt.ylim(0, 1)\n",
    "plt.yticks([i/10 for i in range(11)]) \n",
    "plt.legend()\n",
    "plt.title('Final Training and Validation Accuracy')\n",
    "\n",
    "plt.tight_layout()\n",
    "plt.show()"
   ]
  },
  {
   "cell_type": "markdown",
   "metadata": {},
   "source": [
    "The plot above shows significant variance in the validation set, roughly averaging around the same accuracy and loss after the 1st epoch. This means that further epoch will not improve accuracy significantly."
   ]
  },
  {
   "cell_type": "code",
   "execution_count": 58,
   "metadata": {},
   "outputs": [
    {
     "name": "stdout",
     "output_type": "stream",
     "text": [
      "(2000,)\n",
      "(2000,)\n"
     ]
    }
   ],
   "source": [
    "print(true_classes.shape)\n",
    "print(opt_predicted_classes.shape)"
   ]
  },
  {
   "cell_type": "code",
   "execution_count": 57,
   "metadata": {},
   "outputs": [
    {
     "name": "stdout",
     "output_type": "stream",
     "text": [
      "Sequential Classification Report:\n",
      "              precision    recall  f1-score   support\n",
      "\n",
      "           0       0.50      0.54      0.52      1000\n",
      "           1       0.49      0.45      0.47      1000\n",
      "\n",
      "    accuracy                           0.49      2000\n",
      "   macro avg       0.49      0.49      0.49      2000\n",
      "weighted avg       0.49      0.49      0.49      2000\n",
      "\n"
     ]
    },
    {
     "data": {
      "image/png": "[encoded data removed]",
      "text/plain": [
       "<Figure size 800x600 with 2 Axes>"
      ]
     },
     "metadata": {},
     "output_type": "display_data"
    }
   ],
   "source": [
    "# Print the classification report\n",
    "print(\"Sequential Classification Report:\")\n",
    "print(classification_report(true_classes, opt_predicted_classes))\n",
    "\n",
    "# Plot the confusion matrix\n",
    "opt_cm = confusion_matrix(true_classes, opt_predicted_classes)\n",
    "\n",
    "# Plot the confusion matrix\n",
    "plt.figure(figsize=(8, 6))\n",
    "plt.imshow(opt_cm, interpolation='nearest', cmap=plt.cm.Blues)\n",
    "plt.title('Sequential Confusion Matrix')\n",
    "plt.colorbar()\n",
    "tick_marks = np.arange(2)\n",
    "plt.xticks(tick_marks, ['Benign', 'Malignant'])\n",
    "plt.yticks(tick_marks, ['Benign', 'Malignant'])\n",
    "plt.xlabel('Predicted Label')\n",
    "plt.ylabel('True Label')\n",
    "\n",
    "# Add the values inside the squares\n",
    "thresh = opt_cm.max() / 2.\n",
    "for i in range(opt_cm.shape[0]):\n",
    "    for j in range(opt_cm.shape[1]):\n",
    "        plt.text(j, i, format(opt_cm[i, j], 'd'),\n",
    "                 horizontalalignment=\"center\",\n",
    "                 color=\"white\" if opt_cm[i, j] > thresh else \"black\")\n",
    "\n",
    "plt.tight_layout()\n",
    "plt.show()"
   ]
  },
  {
   "cell_type": "markdown",
   "metadata": {},
   "source": [
    "The confusion matrix was plotted above shows irregularities in the data. I'm unsure of exactly why the test_generator.classes did not add up to 2000. Alongside the poor accuracy scoring, I deduced that the confusion matrix does not accurately assess the model, and hence I will be using test & validation accuracy as a metric for comparison."
   ]
  },
  {
   "cell_type": "markdown",
   "metadata": {},
   "source": [
    "## Conclusions\n",
    "\n",
    "With a slightly higher validation accuracy but a worse test accuracy, it can be concluded that the hyperparameter tuning was ineffective at improving the model. With that being said, the model performing at 88% accuracy is sufficient enough and is more than effective at distinguishing between benign and malignant tumors. Should the time permit, additional improvements by increasing hyperparameters such as batchsize should be explored to see if improvements can be made from other aspects."
   ]
  },
  {
   "cell_type": "markdown",
   "metadata": {},
   "source": [
    "#"
   ]
  }
 ],
 "metadata": {
  "kernelspec": {
   "display_name": "Python 3",
   "language": "python",
   "name": "python3"
  },
  "language_info": {
   "codemirror_mode": {
    "name": "ipython",
    "version": 3
   },
   "file_extension": ".py",
   "mimetype": "text/x-python",
   "name": "python",
   "nbconvert_exporter": "python",
   "pygments_lexer": "ipython3",
   "version": "3.11.5"
  }
 },
 "nbformat": 4,
 "nbformat_minor": 2
}
